{
 "cells": [
  {
   "cell_type": "code",
   "execution_count": 2,
   "id": "import-and-read",
   "metadata": {},
   "outputs": [
    {
     "data": {
      "application/vnd.microsoft.datawrangler.viewer.v0+json": {
       "columns": [
        {
         "name": "index",
         "rawType": "int64",
         "type": "integer"
        },
        {
         "name": "Collection",
         "rawType": "object",
         "type": "string"
        },
        {
         "name": "PatientID",
         "rawType": "object",
         "type": "string"
        },
        {
         "name": "StudyInstanceUID",
         "rawType": "object",
         "type": "string"
        },
        {
         "name": "Modality",
         "rawType": "object",
         "type": "string"
        },
        {
         "name": "SeriesInstanceUID",
         "rawType": "object",
         "type": "string"
        },
        {
         "name": "SeriesNumber",
         "rawType": "float64",
         "type": "float"
        },
        {
         "name": "SeriesDate",
         "rawType": "object",
         "type": "string"
        },
        {
         "name": "BodyPartExamined",
         "rawType": "object",
         "type": "string"
        },
        {
         "name": "ImageCount",
         "rawType": "int64",
         "type": "integer"
        },
        {
         "name": "TimeStamp",
         "rawType": "object",
         "type": "string"
        },
        {
         "name": "CollectionURI",
         "rawType": "object",
         "type": "string"
        },
        {
         "name": "FileSize",
         "rawType": "int64",
         "type": "integer"
        },
        {
         "name": "DateReleased",
         "rawType": "object",
         "type": "string"
        }
       ],
       "conversionMethod": "pd.DataFrame",
       "ref": "b03fb676-ae17-491b-b9a6-7907ac9e72e1",
       "rows": [
        [
         "0",
         "4D-Lung",
         "100_HM10395",
         "1.3.6.1.4.1.14519.5.2.1.6834.5010.552215730027211807644647167706",
         "CT",
         "1.3.6.1.4.1.14519.5.2.1.6834.5010.189721824525842725510380467695",
         "507.0",
         "1997-10-03 00:00:00.0",
         "LUNG",
         "50",
         "2015-07-20 17:58:54.0",
         "https://doi.org/10.7937/K9/TCIA.2016.ELN8YGLE",
         "26405988",
         "2015-07-20 17:58:54.0"
        ],
        [
         "1",
         "4D-Lung",
         "100_HM10395",
         "1.3.6.1.4.1.14519.5.2.1.6834.5010.980344486630714096442107526343",
         "CT",
         "1.3.6.1.4.1.14519.5.2.1.6834.5010.336250251691987239290048605884",
         "507.0",
         "1997-10-07 00:00:00.0",
         "LUNG",
         "50",
         "2015-07-20 17:40:07.0",
         "https://doi.org/10.7937/K9/TCIA.2016.ELN8YGLE",
         "26405988",
         "2015-07-20 17:40:07.0"
        ],
        [
         "2",
         "4D-Lung",
         "100_HM10395",
         "1.3.6.1.4.1.14519.5.2.1.6834.5010.157653211810935313972138213721",
         "CT",
         "1.3.6.1.4.1.14519.5.2.1.6834.5010.227929163446067537882961857921",
         "503.0",
         "1997-09-18 00:00:00.0",
         "LUNG",
         "50",
         "2015-07-20 17:56:27.0",
         "https://doi.org/10.7937/K9/TCIA.2016.ELN8YGLE",
         "26405988",
         "2015-07-20 17:56:27.0"
        ],
        [
         "3",
         "4D-Lung",
         "100_HM10395",
         "1.3.6.1.4.1.14519.5.2.1.6834.5010.256783235670374561358545877407",
         "CT",
         "1.3.6.1.4.1.14519.5.2.1.6834.5010.925990093742075237571072608963",
         "502.0",
         "1997-10-14 00:00:00.0",
         "LUNG",
         "50",
         "2015-07-20 17:55:30.0",
         "https://doi.org/10.7937/K9/TCIA.2016.ELN8YGLE",
         "26405988",
         "2015-07-20 17:55:30.0"
        ],
        [
         "4",
         "4D-Lung",
         "100_HM10395",
         "1.3.6.1.4.1.14519.5.2.1.6834.5010.980344486630714096442107526343",
         "CT",
         "1.3.6.1.4.1.14519.5.2.1.6834.5010.139116724721865252687455544825",
         "501.0",
         "1997-10-07 00:00:00.0",
         "LUNG",
         "50",
         "2015-07-20 17:51:12.0",
         "https://doi.org/10.7937/K9/TCIA.2016.ELN8YGLE",
         "26405988",
         "2015-07-20 17:51:12.0"
        ]
       ],
       "shape": {
        "columns": 13,
        "rows": 5
       }
      },
      "text/html": [
       "<div>\n",
       "<style scoped>\n",
       "    .dataframe tbody tr th:only-of-type {\n",
       "        vertical-align: middle;\n",
       "    }\n",
       "\n",
       "    .dataframe tbody tr th {\n",
       "        vertical-align: top;\n",
       "    }\n",
       "\n",
       "    .dataframe thead th {\n",
       "        text-align: right;\n",
       "    }\n",
       "</style>\n",
       "<table border=\"1\" class=\"dataframe\">\n",
       "  <thead>\n",
       "    <tr style=\"text-align: right;\">\n",
       "      <th></th>\n",
       "      <th>Collection</th>\n",
       "      <th>PatientID</th>\n",
       "      <th>StudyInstanceUID</th>\n",
       "      <th>Modality</th>\n",
       "      <th>SeriesInstanceUID</th>\n",
       "      <th>SeriesNumber</th>\n",
       "      <th>SeriesDate</th>\n",
       "      <th>BodyPartExamined</th>\n",
       "      <th>ImageCount</th>\n",
       "      <th>TimeStamp</th>\n",
       "      <th>CollectionURI</th>\n",
       "      <th>FileSize</th>\n",
       "      <th>DateReleased</th>\n",
       "    </tr>\n",
       "  </thead>\n",
       "  <tbody>\n",
       "    <tr>\n",
       "      <th>0</th>\n",
       "      <td>4D-Lung</td>\n",
       "      <td>100_HM10395</td>\n",
       "      <td>1.3.6.1.4.1.14519.5.2.1.6834.5010.552215730027...</td>\n",
       "      <td>CT</td>\n",
       "      <td>1.3.6.1.4.1.14519.5.2.1.6834.5010.189721824525...</td>\n",
       "      <td>507.0</td>\n",
       "      <td>1997-10-03 00:00:00.0</td>\n",
       "      <td>LUNG</td>\n",
       "      <td>50</td>\n",
       "      <td>2015-07-20 17:58:54.0</td>\n",
       "      <td>https://doi.org/10.7937/K9/TCIA.2016.ELN8YGLE</td>\n",
       "      <td>26405988</td>\n",
       "      <td>2015-07-20 17:58:54.0</td>\n",
       "    </tr>\n",
       "    <tr>\n",
       "      <th>1</th>\n",
       "      <td>4D-Lung</td>\n",
       "      <td>100_HM10395</td>\n",
       "      <td>1.3.6.1.4.1.14519.5.2.1.6834.5010.980344486630...</td>\n",
       "      <td>CT</td>\n",
       "      <td>1.3.6.1.4.1.14519.5.2.1.6834.5010.336250251691...</td>\n",
       "      <td>507.0</td>\n",
       "      <td>1997-10-07 00:00:00.0</td>\n",
       "      <td>LUNG</td>\n",
       "      <td>50</td>\n",
       "      <td>2015-07-20 17:40:07.0</td>\n",
       "      <td>https://doi.org/10.7937/K9/TCIA.2016.ELN8YGLE</td>\n",
       "      <td>26405988</td>\n",
       "      <td>2015-07-20 17:40:07.0</td>\n",
       "    </tr>\n",
       "    <tr>\n",
       "      <th>2</th>\n",
       "      <td>4D-Lung</td>\n",
       "      <td>100_HM10395</td>\n",
       "      <td>1.3.6.1.4.1.14519.5.2.1.6834.5010.157653211810...</td>\n",
       "      <td>CT</td>\n",
       "      <td>1.3.6.1.4.1.14519.5.2.1.6834.5010.227929163446...</td>\n",
       "      <td>503.0</td>\n",
       "      <td>1997-09-18 00:00:00.0</td>\n",
       "      <td>LUNG</td>\n",
       "      <td>50</td>\n",
       "      <td>2015-07-20 17:56:27.0</td>\n",
       "      <td>https://doi.org/10.7937/K9/TCIA.2016.ELN8YGLE</td>\n",
       "      <td>26405988</td>\n",
       "      <td>2015-07-20 17:56:27.0</td>\n",
       "    </tr>\n",
       "    <tr>\n",
       "      <th>3</th>\n",
       "      <td>4D-Lung</td>\n",
       "      <td>100_HM10395</td>\n",
       "      <td>1.3.6.1.4.1.14519.5.2.1.6834.5010.256783235670...</td>\n",
       "      <td>CT</td>\n",
       "      <td>1.3.6.1.4.1.14519.5.2.1.6834.5010.925990093742...</td>\n",
       "      <td>502.0</td>\n",
       "      <td>1997-10-14 00:00:00.0</td>\n",
       "      <td>LUNG</td>\n",
       "      <td>50</td>\n",
       "      <td>2015-07-20 17:55:30.0</td>\n",
       "      <td>https://doi.org/10.7937/K9/TCIA.2016.ELN8YGLE</td>\n",
       "      <td>26405988</td>\n",
       "      <td>2015-07-20 17:55:30.0</td>\n",
       "    </tr>\n",
       "    <tr>\n",
       "      <th>4</th>\n",
       "      <td>4D-Lung</td>\n",
       "      <td>100_HM10395</td>\n",
       "      <td>1.3.6.1.4.1.14519.5.2.1.6834.5010.980344486630...</td>\n",
       "      <td>CT</td>\n",
       "      <td>1.3.6.1.4.1.14519.5.2.1.6834.5010.139116724721...</td>\n",
       "      <td>501.0</td>\n",
       "      <td>1997-10-07 00:00:00.0</td>\n",
       "      <td>LUNG</td>\n",
       "      <td>50</td>\n",
       "      <td>2015-07-20 17:51:12.0</td>\n",
       "      <td>https://doi.org/10.7937/K9/TCIA.2016.ELN8YGLE</td>\n",
       "      <td>26405988</td>\n",
       "      <td>2015-07-20 17:51:12.0</td>\n",
       "    </tr>\n",
       "  </tbody>\n",
       "</table>\n",
       "</div>"
      ],
      "text/plain": [
       "  Collection    PatientID                                   StudyInstanceUID  \\\n",
       "0    4D-Lung  100_HM10395  1.3.6.1.4.1.14519.5.2.1.6834.5010.552215730027...   \n",
       "1    4D-Lung  100_HM10395  1.3.6.1.4.1.14519.5.2.1.6834.5010.980344486630...   \n",
       "2    4D-Lung  100_HM10395  1.3.6.1.4.1.14519.5.2.1.6834.5010.157653211810...   \n",
       "3    4D-Lung  100_HM10395  1.3.6.1.4.1.14519.5.2.1.6834.5010.256783235670...   \n",
       "4    4D-Lung  100_HM10395  1.3.6.1.4.1.14519.5.2.1.6834.5010.980344486630...   \n",
       "\n",
       "  Modality                                  SeriesInstanceUID  SeriesNumber  \\\n",
       "0       CT  1.3.6.1.4.1.14519.5.2.1.6834.5010.189721824525...         507.0   \n",
       "1       CT  1.3.6.1.4.1.14519.5.2.1.6834.5010.336250251691...         507.0   \n",
       "2       CT  1.3.6.1.4.1.14519.5.2.1.6834.5010.227929163446...         503.0   \n",
       "3       CT  1.3.6.1.4.1.14519.5.2.1.6834.5010.925990093742...         502.0   \n",
       "4       CT  1.3.6.1.4.1.14519.5.2.1.6834.5010.139116724721...         501.0   \n",
       "\n",
       "              SeriesDate BodyPartExamined  ImageCount              TimeStamp  \\\n",
       "0  1997-10-03 00:00:00.0             LUNG          50  2015-07-20 17:58:54.0   \n",
       "1  1997-10-07 00:00:00.0             LUNG          50  2015-07-20 17:40:07.0   \n",
       "2  1997-09-18 00:00:00.0             LUNG          50  2015-07-20 17:56:27.0   \n",
       "3  1997-10-14 00:00:00.0             LUNG          50  2015-07-20 17:55:30.0   \n",
       "4  1997-10-07 00:00:00.0             LUNG          50  2015-07-20 17:51:12.0   \n",
       "\n",
       "                                   CollectionURI  FileSize  \\\n",
       "0  https://doi.org/10.7937/K9/TCIA.2016.ELN8YGLE  26405988   \n",
       "1  https://doi.org/10.7937/K9/TCIA.2016.ELN8YGLE  26405988   \n",
       "2  https://doi.org/10.7937/K9/TCIA.2016.ELN8YGLE  26405988   \n",
       "3  https://doi.org/10.7937/K9/TCIA.2016.ELN8YGLE  26405988   \n",
       "4  https://doi.org/10.7937/K9/TCIA.2016.ELN8YGLE  26405988   \n",
       "\n",
       "            DateReleased  \n",
       "0  2015-07-20 17:58:54.0  \n",
       "1  2015-07-20 17:40:07.0  \n",
       "2  2015-07-20 17:56:27.0  \n",
       "3  2015-07-20 17:55:30.0  \n",
       "4  2015-07-20 17:51:12.0  "
      ]
     },
     "execution_count": 2,
     "metadata": {},
     "output_type": "execute_result"
    }
   ],
   "source": [
    "import pandas as pd\n",
    "import numpy as np\n",
    "from pathlib import Path\n",
    "\n",
    "file_path = '../rawdata/AllSeries.tsv'\n",
    "data = pd.read_csv(file_path, sep='\\t')\n",
    "\n",
    "data.head()"
   ]
  },
  {
   "cell_type": "code",
   "execution_count": 18,
   "id": "compute-stats",
   "metadata": {},
   "outputs": [
    {
     "name": "stdout",
     "output_type": "stream",
     "text": [
      "Sample size: 0\n",
      "Images per patient range: []\n",
      "Samples with segmentation data: {'RTSTRUCT': 0, 'SEG': 0}\n"
     ]
    }
   ],
   "source": [
    "# filter for Collection \n",
    "filtered_data = data[(data['Collection'] == 'Healthy-Total-Body-CTs')]\n",
    "\n",
    "# sample size (unique PatientIDs)\n",
    "sample_size = filtered_data['PatientID'].nunique()\n",
    "\n",
    "# modality counts for CT, MR, PT, RTSTRUCT, SEG\n",
    "modalities = list(set(filtered_data[\"Modality\"]))\n",
    "modality_counts = {modality: filtered_data[filtered_data['Modality'] == modality]['SeriesInstanceUID'].nunique() for modality in modalities}\n",
    "\n",
    "# number of samples with segmentations\n",
    "seg_modalities = [\"RTSTRUCT\", \"SEG\"]\n",
    "seg_counts = {seg_modality: filtered_data[filtered_data['Modality'] == seg_modality]['PatientID'].nunique() for seg_modality in seg_modalities}\n",
    "\n",
    "# images / patient (range of unique SeriesInstanceUIDs for each unique PatientID)\n",
    "images_per_patient = filtered_data.groupby('PatientID')['SeriesInstanceUID'].nunique().unique()\n",
    "images_per_patient_range = np.sort(images_per_patient)\n",
    "\n",
    "print(f'Sample size: {sample_size}')\n",
    "for modality, count in modality_counts.items():\n",
    "    print(f'{modality} count: {count}')\n",
    "print(f'Images per patient range: {images_per_patient_range}')\n",
    "print(f'Samples with segmentation data: {seg_counts}')"
   ]
  },
  {
   "cell_type": "code",
   "execution_count": null,
   "metadata": {},
   "outputs": [],
   "source": []
  },
  {
   "cell_type": "markdown",
   "metadata": {},
   "source": [
    "# IBM Aspera Connect data processing\n",
    "From the .sums files"
   ]
  },
  {
   "cell_type": "code",
   "execution_count": 41,
   "metadata": {},
   "outputs": [],
   "source": [
    "dataset_name = \"RSNA-ASNR-MICCAI-BraTS-2021\"\n",
    "\n",
    "aspera_sums_data = pd.read_csv(f\"../rawdata/aspera_files/{dataset_name}.sums\", sep=\" \", header=None, names=[\"md5\", \"file_name\"])"
   ]
  },
  {
   "cell_type": "code",
   "execution_count": 42,
   "metadata": {},
   "outputs": [
    {
     "data": {
      "application/vnd.microsoft.datawrangler.viewer.v0+json": {
       "columns": [
        {
         "name": "index",
         "rawType": "int64",
         "type": "integer"
        },
        {
         "name": "md5",
         "rawType": "object",
         "type": "string"
        },
        {
         "name": "file_name",
         "rawType": "object",
         "type": "string"
        }
       ],
       "conversionMethod": "pd.DataFrame",
       "ref": "02bf06b9-2468-4437-a6a6-e6adb35b83b4",
       "rows": [
        [
         "0",
         "623c8e748d6ef779e04c9def5fe8a52f",
         "RSNA-ASNR-MICCAI-BraTS-2021/BraTS2021_TrainingSet/UCSF-PDGM/BraTS2021_00523/BraTS2021_00523_flair.nii.gz"
        ],
        [
         "1",
         "fdfa7813aa025fba014531f5b4c1e989",
         "RSNA-ASNR-MICCAI-BraTS-2021/BraTS2021_TrainingSet_dcm/UCSF-PDGM/00537/T2w/Image-129.dcm"
        ],
        [
         "2",
         "966c482d486e7a3fe41f8dff1d4ad55f",
         "RSNA-ASNR-MICCAI-BraTS-2021/BraTS2021_TrainingSet_dcm/UCSF-PDGM/00623/T1wCE/Image-49.dcm"
        ],
        [
         "3",
         "8d9af639f705937341c2c7ef8b653391",
         "RSNA-ASNR-MICCAI-BraTS-2021/BraTS2021_TrainingSet_dcm/UCSF-PDGM/00709/T1w/Image-232.dcm"
        ],
        [
         "4",
         "74e74fcd62aa74145bd6ad8fd6184807",
         "RSNA-ASNR-MICCAI-BraTS-2021/BraTS2021_TrainingSet_dcm/UPENN-GBM/00834/T1wCE/Image-61.dcm"
        ],
        [
         "5",
         "d3bf77bee123bb3100106f842dd6b902",
         "RSNA-ASNR-MICCAI-BraTS-2021/BraTS2021_TrainingSet_dcm/UPENN-GBM/01010/T1w/Image-118.dcm"
        ],
        [
         "6",
         "800a5a492f9b6c1879a58d5a77c323d1",
         "RSNA-ASNR-MICCAI-BraTS-2021/BraTS2021_TrainingSet_dcm/new-not-previously-in-TCIA/00563/T2w/Image-95.dcm"
        ],
        [
         "7",
         "e9b4e5493f1230bf49703387ed9d922d",
         "RSNA-ASNR-MICCAI-BraTS-2021/BraTS2021_TrainingSet_dcm/UCSF-PDGM/00526/T1w/Image-125.dcm"
        ],
        [
         "8",
         "03cf162b9b03f8772a690cc0f84c313a",
         "RSNA-ASNR-MICCAI-BraTS-2021/BraTS2021_TrainingSet_dcm/UCSF-PDGM/00030/T2w/Image-292.dcm"
        ],
        [
         "9",
         "1ba5aded1f177349145ba97fb41c6674",
         "RSNA-ASNR-MICCAI-BraTS-2021/BraTS2021_TrainingSet_dcm/UPENN-GBM/00258/FLAIR/Image-4.dcm"
        ],
        [
         "10",
         "c2ca1bf6bbc6c70e1ef2ed85b807b8c7",
         "RSNA-ASNR-MICCAI-BraTS-2021/BraTS2021_TrainingSet_dcm/UCSF-PDGM/00533/T1wCE/Image-119.dcm"
        ],
        [
         "11",
         "4b66195c7fd1ed911649d4992e66cc7d",
         "RSNA-ASNR-MICCAI-BraTS-2021/BraTS2021_TrainingSet_dcm/UPENN-GBM/00839/FLAIR/Image-179.dcm"
        ],
        [
         "12",
         "4668b13c780baa3247e4520152555626",
         "RSNA-ASNR-MICCAI-BraTS-2021/BraTS2021_ValidationSet_dcm/UPENN-GBM/00181/T1w/Image-16.dcm"
        ],
        [
         "13",
         "4ce190209a2e0baf817275e60d94930c",
         "RSNA-ASNR-MICCAI-BraTS-2021/BraTS2021_TrainingSet_dcm/UCSF-PDGM/00631/T1wCE/Image-77.dcm"
        ],
        [
         "14",
         "bc2884a5b7dcb68c18bcdf4a1fff1ff3",
         "RSNA-ASNR-MICCAI-BraTS-2021/BraTS2021_TrainingSet_dcm/UCSF-PDGM/00730/FLAIR/Image-176.dcm"
        ],
        [
         "15",
         "b74e1040a113b85d2e47f0aacc13cbe8",
         "RSNA-ASNR-MICCAI-BraTS-2021/BraTS2021_TrainingSet_dcm/UCSF-PDGM/00514/T2w/Image-93.dcm"
        ],
        [
         "16",
         "37fca9dc12d1ec492b0786748ecd76a2",
         "RSNA-ASNR-MICCAI-BraTS-2021/BraTS2021_TrainingSet_dcm/UCSF-PDGM/00472/T1w/Image-21.dcm"
        ],
        [
         "17",
         "270bf56a4342d9195b36602b2b4cbd27",
         "RSNA-ASNR-MICCAI-BraTS-2021/BraTS2021_TrainingSet_dcm/UPENN-GBM/00432/FLAIR/Image-55.dcm"
        ],
        [
         "18",
         "bb087382e867002427b337413f64a874",
         "RSNA-ASNR-MICCAI-BraTS-2021/BraTS2021_TrainingSet_dcm/UPENN-GBM/00159/T2w/Image-27.dcm"
        ],
        [
         "19",
         "c39666ee0135aeda02d9c7e552c31b3c",
         "RSNA-ASNR-MICCAI-BraTS-2021/BraTS2021_TrainingSet_dcm/UCSF-PDGM/00728/T1w/Image-8.dcm"
        ],
        [
         "20",
         "646a54c5dc79ca812875d9bb0d519509",
         "RSNA-ASNR-MICCAI-BraTS-2021/BraTS2021_TrainingSet_dcm/UCSF-PDGM/00618/T1wCE/Image-207.dcm"
        ],
        [
         "21",
         "fa25b48abfa7bc16c67980a6c585e366",
         "RSNA-ASNR-MICCAI-BraTS-2021/BraTS2021_ValidationSet_dcm/UPENN-GBM/00438/T1wCE/Image-46.dcm"
        ],
        [
         "22",
         "8c3dbb029b797dd1e72b27017399295f",
         "RSNA-ASNR-MICCAI-BraTS-2021/BraTS2021_TrainingSet_dcm/UPENN-GBM/00283/FLAIR/Image-33.dcm"
        ],
        [
         "23",
         "27ea52cd7d889b8aa575a9b25d9253c3",
         "RSNA-ASNR-MICCAI-BraTS-2021/BraTS2021_TrainingSet_dcm/UPENN-GBM/01004/FLAIR/Image-24.dcm"
        ],
        [
         "24",
         "988257e4164ebdf9d9a964ca5d7b7821",
         "RSNA-ASNR-MICCAI-BraTS-2021/BraTS2021_TrainingSet_dcm/UCSF-PDGM/00469/T2w/Image-154.dcm"
        ],
        [
         "25",
         "cb83b51ffc7b48396b86dfc858394c08",
         "RSNA-ASNR-MICCAI-BraTS-2021/BraTS2021_TrainingSet_dcm/UPENN-GBM/00210/T1wCE/Image-69.dcm"
        ],
        [
         "26",
         "5ceb9532de840952df5172a43d29ae37",
         "RSNA-ASNR-MICCAI-BraTS-2021/BraTS2021_TrainingSet_dcm/UCSF-PDGM/00048/T1wCE/Image-228.dcm"
        ],
        [
         "27",
         "54bdb09ca83f96701ced66d88bd418a5",
         "RSNA-ASNR-MICCAI-BraTS-2021/BraTS2021_TrainingSet_dcm/TCGA-GBM/00116/FLAIR/Image-14.dcm"
        ],
        [
         "28",
         "2659546a172111060b32dd8f5499dc72",
         "RSNA-ASNR-MICCAI-BraTS-2021/BraTS2021_TrainingSet_dcm/UPENN-GBM/00166/T1wCE/Image-119.dcm"
        ],
        [
         "29",
         "ae6318a74765e14a27031ce1e2bc47dc",
         "RSNA-ASNR-MICCAI-BraTS-2021/BraTS2021_ValidationSet_dcm/UPENN-GBM/00335/T1wCE/Image-33.dcm"
        ],
        [
         "30",
         "3aef4e322b47be9342aac2bc4d9b5a6d",
         "RSNA-ASNR-MICCAI-BraTS-2021/BraTS2021_TrainingSet_dcm/UPENN-GBM/00282/T1w/Image-30.dcm"
        ],
        [
         "31",
         "d3f6f5e6222debe36e4b748953267880",
         "RSNA-ASNR-MICCAI-BraTS-2021/BraTS2021_TrainingSet_dcm/UCSF-PDGM/00500/T1w/Image-257.dcm"
        ],
        [
         "32",
         "4871530670624fae9db567a127539593",
         "RSNA-ASNR-MICCAI-BraTS-2021/BraTS2021_TrainingSet_dcm/UCSF-PDGM/00659/T1w/Image-204.dcm"
        ],
        [
         "33",
         "89208eb6ac1b0f2023e0db320a554861",
         "RSNA-ASNR-MICCAI-BraTS-2021/BraTS2021_TrainingSet_dcm/UCSF-PDGM/00773/FLAIR/Image-194.dcm"
        ],
        [
         "34",
         "1fe36ef4f053fdb771ebe3fd5fb20dbf",
         "RSNA-ASNR-MICCAI-BraTS-2021/BraTS2021_TrainingSet_dcm/UPENN-GBM/00413/T1w/Image-106.dcm"
        ],
        [
         "35",
         "6fbb61d5f8863a5a78e0491107eff51b",
         "RSNA-ASNR-MICCAI-BraTS-2021/BraTS2021_TrainingSet_dcm/UPENN-GBM/00191/FLAIR/Image-12.dcm"
        ],
        [
         "36",
         "ece0eb5d98f03d197fe65df1e8af3a6b",
         "RSNA-ASNR-MICCAI-BraTS-2021/BraTS2021_TrainingSet_dcm/UPENN-GBM/00166/T1wCE/Image-139.dcm"
        ],
        [
         "37",
         "af956ee1e8053c049242fc4bca73031d",
         "RSNA-ASNR-MICCAI-BraTS-2021/BraTS2021_TrainingSet_dcm/UPENN-GBM/00154/FLAIR/Image-2.dcm"
        ],
        [
         "38",
         "31a96192d1ab73ab968789334bf39430",
         "RSNA-ASNR-MICCAI-BraTS-2021/BraTS2021_TrainingSet_dcm/UCSF-PDGM/00060/T1w/Image-2.dcm"
        ],
        [
         "39",
         "4de7a1ac4b702bfddebe125990364aba",
         "RSNA-ASNR-MICCAI-BraTS-2021/BraTS2021_ValidationSet_dcm/UCSF-PDGM/00091/FLAIR/Image-284.dcm"
        ],
        [
         "40",
         "a490c3209743fb5442de88ae34dc7288",
         "RSNA-ASNR-MICCAI-BraTS-2021/BraTS2021_TrainingSet_dcm/new-not-previously-in-TCIA/00801/T2w/Image-14.dcm"
        ],
        [
         "41",
         "240932d23b17d23ca8208bd36b512da9",
         "RSNA-ASNR-MICCAI-BraTS-2021/BraTS2021_ValidationSet_dcm/TCGA-GBM/00145/FLAIR/Image-1.dcm"
        ],
        [
         "42",
         "285c0ac0e8d701fb43009097c06dc758",
         "RSNA-ASNR-MICCAI-BraTS-2021/BraTS2021_TrainingSet_dcm/UCSF-PDGM/00631/FLAIR/Image-214.dcm"
        ],
        [
         "43",
         "2940c3ec771d63dffb338c4817497e66",
         "RSNA-ASNR-MICCAI-BraTS-2021/BraTS2021_ValidationSet_dcm/CPTAC-GBM/00458/T1wCE/Image-181.dcm"
        ],
        [
         "44",
         "11ad40808ba8405e774b8f7b0511c040",
         "RSNA-ASNR-MICCAI-BraTS-2021/BraTS2021_TrainingSet_dcm/UCSF-PDGM/00684/T1w/Image-109.dcm"
        ],
        [
         "45",
         "ee24becb04773302e7e31368be263357",
         "RSNA-ASNR-MICCAI-BraTS-2021/BraTS2021_ValidationSet_dcm/UCSF-PDGM/00463/T2w/Image-269.dcm"
        ],
        [
         "46",
         "d610d2017a2276fcee30e7b87a7899b8",
         "RSNA-ASNR-MICCAI-BraTS-2021/BraTS2021_TrainingSet_dcm/UPENN-GBM/00360/T1w/Image-88.dcm"
        ],
        [
         "47",
         "ce2418286aae0eaf4eff248048cf2eee",
         "RSNA-ASNR-MICCAI-BraTS-2021/BraTS2021_TrainingSet_dcm/UPENN-GBM/00159/T1w/Image-21.dcm"
        ],
        [
         "48",
         "aa28e4e2309bb53cbc850dfbe43750a4",
         "RSNA-ASNR-MICCAI-BraTS-2021/BraTS2021_TrainingSet_dcm/UCSF-PDGM/00097/FLAIR/Image-40.dcm"
        ],
        [
         "49",
         "7e9aaf7a26b4000ad6c42ba80306e761",
         "RSNA-ASNR-MICCAI-BraTS-2021/BraTS2021_ValidationSet_dcm/UPENN-GBM/00434/T2w/Image-27.dcm"
        ]
       ],
       "shape": {
        "columns": 2,
        "rows": 407245
       }
      },
      "text/html": [
       "<div>\n",
       "<style scoped>\n",
       "    .dataframe tbody tr th:only-of-type {\n",
       "        vertical-align: middle;\n",
       "    }\n",
       "\n",
       "    .dataframe tbody tr th {\n",
       "        vertical-align: top;\n",
       "    }\n",
       "\n",
       "    .dataframe thead th {\n",
       "        text-align: right;\n",
       "    }\n",
       "</style>\n",
       "<table border=\"1\" class=\"dataframe\">\n",
       "  <thead>\n",
       "    <tr style=\"text-align: right;\">\n",
       "      <th></th>\n",
       "      <th>md5</th>\n",
       "      <th>file_name</th>\n",
       "    </tr>\n",
       "  </thead>\n",
       "  <tbody>\n",
       "    <tr>\n",
       "      <th>0</th>\n",
       "      <td>623c8e748d6ef779e04c9def5fe8a52f</td>\n",
       "      <td>RSNA-ASNR-MICCAI-BraTS-2021/BraTS2021_Training...</td>\n",
       "    </tr>\n",
       "    <tr>\n",
       "      <th>1</th>\n",
       "      <td>fdfa7813aa025fba014531f5b4c1e989</td>\n",
       "      <td>RSNA-ASNR-MICCAI-BraTS-2021/BraTS2021_Training...</td>\n",
       "    </tr>\n",
       "    <tr>\n",
       "      <th>2</th>\n",
       "      <td>966c482d486e7a3fe41f8dff1d4ad55f</td>\n",
       "      <td>RSNA-ASNR-MICCAI-BraTS-2021/BraTS2021_Training...</td>\n",
       "    </tr>\n",
       "    <tr>\n",
       "      <th>3</th>\n",
       "      <td>8d9af639f705937341c2c7ef8b653391</td>\n",
       "      <td>RSNA-ASNR-MICCAI-BraTS-2021/BraTS2021_Training...</td>\n",
       "    </tr>\n",
       "    <tr>\n",
       "      <th>4</th>\n",
       "      <td>74e74fcd62aa74145bd6ad8fd6184807</td>\n",
       "      <td>RSNA-ASNR-MICCAI-BraTS-2021/BraTS2021_Training...</td>\n",
       "    </tr>\n",
       "    <tr>\n",
       "      <th>...</th>\n",
       "      <td>...</td>\n",
       "      <td>...</td>\n",
       "    </tr>\n",
       "    <tr>\n",
       "      <th>407240</th>\n",
       "      <td>8a29d09e734e5f74e9b1ad7366f462b6</td>\n",
       "      <td>RSNA-ASNR-MICCAI-BraTS-2021/BraTS2021_Validati...</td>\n",
       "    </tr>\n",
       "    <tr>\n",
       "      <th>407241</th>\n",
       "      <td>9bb5c3d38248c702182a167080407d10</td>\n",
       "      <td>RSNA-ASNR-MICCAI-BraTS-2021/BraTS2021_Validati...</td>\n",
       "    </tr>\n",
       "    <tr>\n",
       "      <th>407242</th>\n",
       "      <td>8f5076820e0f8eccc95e8c7b589654a0</td>\n",
       "      <td>RSNA-ASNR-MICCAI-BraTS-2021/BraTS2021_Training...</td>\n",
       "    </tr>\n",
       "    <tr>\n",
       "      <th>407243</th>\n",
       "      <td>940ab71634ac7843886fee5606a704c9</td>\n",
       "      <td>RSNA-ASNR-MICCAI-BraTS-2021/BraTS2021_Training...</td>\n",
       "    </tr>\n",
       "    <tr>\n",
       "      <th>407244</th>\n",
       "      <td>9ad425348e0938a593229b7b9c984f9f</td>\n",
       "      <td>RSNA-ASNR-MICCAI-BraTS-2021/BraTS2021_Training...</td>\n",
       "    </tr>\n",
       "  </tbody>\n",
       "</table>\n",
       "<p>407245 rows × 2 columns</p>\n",
       "</div>"
      ],
      "text/plain": [
       "                                     md5  \\\n",
       "0       623c8e748d6ef779e04c9def5fe8a52f   \n",
       "1       fdfa7813aa025fba014531f5b4c1e989   \n",
       "2       966c482d486e7a3fe41f8dff1d4ad55f   \n",
       "3       8d9af639f705937341c2c7ef8b653391   \n",
       "4       74e74fcd62aa74145bd6ad8fd6184807   \n",
       "...                                  ...   \n",
       "407240  8a29d09e734e5f74e9b1ad7366f462b6   \n",
       "407241  9bb5c3d38248c702182a167080407d10   \n",
       "407242  8f5076820e0f8eccc95e8c7b589654a0   \n",
       "407243  940ab71634ac7843886fee5606a704c9   \n",
       "407244  9ad425348e0938a593229b7b9c984f9f   \n",
       "\n",
       "                                                file_name  \n",
       "0       RSNA-ASNR-MICCAI-BraTS-2021/BraTS2021_Training...  \n",
       "1       RSNA-ASNR-MICCAI-BraTS-2021/BraTS2021_Training...  \n",
       "2       RSNA-ASNR-MICCAI-BraTS-2021/BraTS2021_Training...  \n",
       "3       RSNA-ASNR-MICCAI-BraTS-2021/BraTS2021_Training...  \n",
       "4       RSNA-ASNR-MICCAI-BraTS-2021/BraTS2021_Training...  \n",
       "...                                                   ...  \n",
       "407240  RSNA-ASNR-MICCAI-BraTS-2021/BraTS2021_Validati...  \n",
       "407241  RSNA-ASNR-MICCAI-BraTS-2021/BraTS2021_Validati...  \n",
       "407242  RSNA-ASNR-MICCAI-BraTS-2021/BraTS2021_Training...  \n",
       "407243  RSNA-ASNR-MICCAI-BraTS-2021/BraTS2021_Training...  \n",
       "407244  RSNA-ASNR-MICCAI-BraTS-2021/BraTS2021_Training...  \n",
       "\n",
       "[407245 rows x 2 columns]"
      ]
     },
     "execution_count": 42,
     "metadata": {},
     "output_type": "execute_result"
    }
   ],
   "source": [
    "aspera_sums_data"
   ]
  },
  {
   "cell_type": "code",
   "execution_count": 55,
   "metadata": {},
   "outputs": [
    {
     "data": {
      "application/vnd.microsoft.datawrangler.viewer.v0+json": {
       "columns": [
        {
         "name": "index",
         "rawType": "int64",
         "type": "integer"
        },
        {
         "name": "md5",
         "rawType": "object",
         "type": "string"
        },
        {
         "name": "file_name",
         "rawType": "object",
         "type": "string"
        }
       ],
       "conversionMethod": "pd.DataFrame",
       "ref": "87d146d2-61fd-4838-b16a-5874ab9cc4d9",
       "rows": [
        [
         "22603",
         "43842f85c51c403bad28099bd0796ae3",
         "RSNA-ASNR-MICCAI-BraTS-2021/BraTS2021_TrainingSet/TCGA-LGG/BraTS2021_01522/BraTS2021_01522_seg.nii.gz"
        ],
        [
         "28831",
         "f4475676f10bc536e69792d4df49d279",
         "RSNA-ASNR-MICCAI-BraTS-2021/BraTS2021_TrainingSet/TCGA-LGG/BraTS2021_01483/BraTS2021_01483_seg.nii.gz"
        ],
        [
         "40736",
         "6ac24699c02c44f45c27075386f07c92",
         "RSNA-ASNR-MICCAI-BraTS-2021/BraTS2021_TrainingSet/TCGA-LGG/BraTS2021_01502/BraTS2021_01502_seg.nii.gz"
        ],
        [
         "53836",
         "8a867017c8b7745aa13f95b508c6fea1",
         "RSNA-ASNR-MICCAI-BraTS-2021/BraTS2021_TrainingSet/TCGA-LGG/BraTS2021_01664/BraTS2021_01664_seg.nii.gz"
        ],
        [
         "61695",
         "3ebabd8adec975c2bc8a2fdb34916481",
         "RSNA-ASNR-MICCAI-BraTS-2021/BraTS2021_TrainingSet/TCGA-LGG/BraTS2021_01535/BraTS2021_01535_seg.nii.gz"
        ],
        [
         "71515",
         "2f884bfb89560eaa9b2e47e97004e36b",
         "RSNA-ASNR-MICCAI-BraTS-2021/BraTS2021_TrainingSet/TCGA-LGG/BraTS2021_01527/BraTS2021_01527_seg.nii.gz"
        ],
        [
         "72870",
         "4f5ba5540b4f0431fe2adac3f74836be",
         "RSNA-ASNR-MICCAI-BraTS-2021/BraTS2021_TrainingSet/TCGA-LGG/BraTS2021_01532/BraTS2021_01532_seg.nii.gz"
        ],
        [
         "73931",
         "64583a082b58652fa2dd1330187061c9",
         "RSNA-ASNR-MICCAI-BraTS-2021/BraTS2021_TrainingSet/TCGA-LGG/BraTS2021_01514/BraTS2021_01514_seg.nii.gz"
        ],
        [
         "80593",
         "46483ece9f1ecda0664daba413e7348a",
         "RSNA-ASNR-MICCAI-BraTS-2021/BraTS2021_TrainingSet/TCGA-LGG/BraTS2021_01523/BraTS2021_01523_seg.nii.gz"
        ],
        [
         "82043",
         "1b0c8e6588d77ab63e75a0af72161c65",
         "RSNA-ASNR-MICCAI-BraTS-2021/BraTS2021_TrainingSet/TCGA-LGG/BraTS2021_01479/BraTS2021_01479_seg.nii.gz"
        ],
        [
         "96836",
         "17bdd274f113c2f84ea259b001a53735",
         "RSNA-ASNR-MICCAI-BraTS-2021/BraTS2021_TrainingSet/TCGA-LGG/BraTS2021_01496/BraTS2021_01496_seg.nii.gz"
        ],
        [
         "100043",
         "a81a78a84d1872da2c2f5e579efaca7f",
         "RSNA-ASNR-MICCAI-BraTS-2021/BraTS2021_TrainingSet/TCGA-LGG/BraTS2021_01516/BraTS2021_01516_seg.nii.gz"
        ],
        [
         "104796",
         "9149e08c2c0e48c3d768a71a871eb3cc",
         "RSNA-ASNR-MICCAI-BraTS-2021/BraTS2021_TrainingSet/TCGA-LGG/BraTS2021_01529/BraTS2021_01529_seg.nii.gz"
        ],
        [
         "110485",
         "b84f38c23fc4cf27b35a9b49a9d64763",
         "RSNA-ASNR-MICCAI-BraTS-2021/BraTS2021_TrainingSet/TCGA-LGG/BraTS2021_01520/BraTS2021_01520_seg.nii.gz"
        ],
        [
         "118358",
         "a72fe4985b69e60a1ac5da9e9758d4d8",
         "RSNA-ASNR-MICCAI-BraTS-2021/BraTS2021_TrainingSet/TCGA-LGG/BraTS2021_01534/BraTS2021_01534_seg.nii.gz"
        ],
        [
         "119555",
         "e61f6c1269e91dd89739c724c9bcf241",
         "RSNA-ASNR-MICCAI-BraTS-2021/BraTS2021_TrainingSet/TCGA-LGG/BraTS2021_01503/BraTS2021_01503_seg.nii.gz"
        ],
        [
         "128927",
         "4130b0c38f6b4ee4370922a94a730c11",
         "RSNA-ASNR-MICCAI-BraTS-2021/BraTS2021_TrainingSet/TCGA-LGG/BraTS2021_01513/BraTS2021_01513_seg.nii.gz"
        ],
        [
         "130190",
         "fe2f13f23cc20d48ea559323fcbb195e",
         "RSNA-ASNR-MICCAI-BraTS-2021/BraTS2021_TrainingSet/TCGA-LGG/BraTS2021_01507/BraTS2021_01507_seg.nii.gz"
        ],
        [
         "130923",
         "9de338f41950563fa927158b10b56440",
         "RSNA-ASNR-MICCAI-BraTS-2021/BraTS2021_TrainingSet/TCGA-LGG/BraTS2021_01488/BraTS2021_01488_seg.nii.gz"
        ],
        [
         "137810",
         "c1ad72242c2a33d5e2bb05777eee6819",
         "RSNA-ASNR-MICCAI-BraTS-2021/BraTS2021_TrainingSet/TCGA-LGG/BraTS2021_01518/BraTS2021_01518_seg.nii.gz"
        ],
        [
         "148890",
         "02772aa6f28de78219e88a704fd14f00",
         "RSNA-ASNR-MICCAI-BraTS-2021/BraTS2021_TrainingSet/TCGA-LGG/BraTS2021_01515/BraTS2021_01515_seg.nii.gz"
        ],
        [
         "154702",
         "255a0b90a52ffaa3fc6bd6066328e339",
         "RSNA-ASNR-MICCAI-BraTS-2021/BraTS2021_TrainingSet/TCGA-LGG/BraTS2021_01478/BraTS2021_01478_seg.nii.gz"
        ],
        [
         "171696",
         "76d4bd90a846de0d230f3c58ea347a6b",
         "RSNA-ASNR-MICCAI-BraTS-2021/BraTS2021_TrainingSet/TCGA-LGG/BraTS2021_01665/BraTS2021_01665_seg.nii.gz"
        ],
        [
         "173659",
         "c52db3805badfd42c9ffec1643891d62",
         "RSNA-ASNR-MICCAI-BraTS-2021/BraTS2021_TrainingSet/TCGA-LGG/BraTS2021_01501/BraTS2021_01501_seg.nii.gz"
        ],
        [
         "174267",
         "176768cf623dd7bd1afa275f836c0a98",
         "RSNA-ASNR-MICCAI-BraTS-2021/BraTS2021_TrainingSet/TCGA-LGG/BraTS2021_01489/BraTS2021_01489_seg.nii.gz"
        ],
        [
         "182304",
         "63944605788dfb7918b24d74898dace2",
         "RSNA-ASNR-MICCAI-BraTS-2021/BraTS2021_TrainingSet/TCGA-LGG/BraTS2021_01499/BraTS2021_01499_seg.nii.gz"
        ],
        [
         "182470",
         "7fed2583e0c533d18be5df81231e0d72",
         "RSNA-ASNR-MICCAI-BraTS-2021/BraTS2021_TrainingSet/TCGA-LGG/BraTS2021_01487/BraTS2021_01487_seg.nii.gz"
        ],
        [
         "185543",
         "bb47c85229f731e9fb5f25dd5a95bab3",
         "RSNA-ASNR-MICCAI-BraTS-2021/BraTS2021_TrainingSet/TCGA-LGG/BraTS2021_01530/BraTS2021_01530_seg.nii.gz"
        ],
        [
         "201163",
         "f4a8424bb9b99060f37337d8076e8675",
         "RSNA-ASNR-MICCAI-BraTS-2021/BraTS2021_TrainingSet/TCGA-LGG/BraTS2021_01497/BraTS2021_01497_seg.nii.gz"
        ],
        [
         "206706",
         "5a8606cd35a7eea74db9a79aac9a5d99",
         "RSNA-ASNR-MICCAI-BraTS-2021/BraTS2021_TrainingSet/TCGA-LGG/BraTS2021_01504/BraTS2021_01504_seg.nii.gz"
        ],
        [
         "207814",
         "d403e1418b6d26bd3b5ec816f4c1c7fb",
         "RSNA-ASNR-MICCAI-BraTS-2021/BraTS2021_TrainingSet/TCGA-LGG/BraTS2021_01525/BraTS2021_01525_seg.nii.gz"
        ],
        [
         "216816",
         "db01a097316321ed2f5e45100c12c342",
         "RSNA-ASNR-MICCAI-BraTS-2021/BraTS2021_TrainingSet/TCGA-LGG/BraTS2021_01666/BraTS2021_01666_seg.nii.gz"
        ],
        [
         "221786",
         "5acf1effcd250a2b65456ca910fe3deb",
         "RSNA-ASNR-MICCAI-BraTS-2021/BraTS2021_TrainingSet/TCGA-LGG/BraTS2021_01519/BraTS2021_01519_seg.nii.gz"
        ],
        [
         "224101",
         "8f0acaaa9a154a618a607daffa9d10d1",
         "RSNA-ASNR-MICCAI-BraTS-2021/BraTS2021_TrainingSet/TCGA-LGG/BraTS2021_01495/BraTS2021_01495_seg.nii.gz"
        ],
        [
         "227125",
         "80415a4239653a2cd8d471307de092cf",
         "RSNA-ASNR-MICCAI-BraTS-2021/BraTS2021_TrainingSet/TCGA-LGG/BraTS2021_01526/BraTS2021_01526_seg.nii.gz"
        ],
        [
         "238063",
         "17552dbd74e9b0402572b812c50d3e04",
         "RSNA-ASNR-MICCAI-BraTS-2021/BraTS2021_TrainingSet/TCGA-LGG/BraTS2021_01531/BraTS2021_01531_seg.nii.gz"
        ],
        [
         "255066",
         "711035fb422f7accce73104c410983eb",
         "RSNA-ASNR-MICCAI-BraTS-2021/BraTS2021_TrainingSet/TCGA-LGG/BraTS2021_01486/BraTS2021_01486_seg.nii.gz"
        ],
        [
         "255296",
         "295c7dca86d8131b83c9f9558d029c82",
         "RSNA-ASNR-MICCAI-BraTS-2021/BraTS2021_TrainingSet/TCGA-LGG/BraTS2021_01536/BraTS2021_01536_seg.nii.gz"
        ],
        [
         "256796",
         "821fcfafa3179b93f1a2d1e9c20fae70",
         "RSNA-ASNR-MICCAI-BraTS-2021/BraTS2021_TrainingSet/TCGA-LGG/BraTS2021_01484/BraTS2021_01484_seg.nii.gz"
        ],
        [
         "266586",
         "12598770d4f702effcd752537cb29349",
         "RSNA-ASNR-MICCAI-BraTS-2021/BraTS2021_TrainingSet/TCGA-LGG/BraTS2021_01490/BraTS2021_01490_seg.nii.gz"
        ],
        [
         "267189",
         "f6685711e5afda5b68820b3f43afa3f9",
         "RSNA-ASNR-MICCAI-BraTS-2021/BraTS2021_TrainingSet/TCGA-LGG/BraTS2021_01494/BraTS2021_01494_seg.nii.gz"
        ],
        [
         "280975",
         "bc4828780ca557fd5a8f5072215d5d29",
         "RSNA-ASNR-MICCAI-BraTS-2021/BraTS2021_TrainingSet/TCGA-LGG/BraTS2021_01528/BraTS2021_01528_seg.nii.gz"
        ],
        [
         "304376",
         "5648f363b9155d2e7998b91863cbb720",
         "RSNA-ASNR-MICCAI-BraTS-2021/BraTS2021_TrainingSet/TCGA-LGG/BraTS2021_01509/BraTS2021_01509_seg.nii.gz"
        ],
        [
         "306166",
         "6ddee5f01a30e3f1d9da20380d58836b",
         "RSNA-ASNR-MICCAI-BraTS-2021/BraTS2021_TrainingSet/TCGA-LGG/BraTS2021_01512/BraTS2021_01512_seg.nii.gz"
        ],
        [
         "307668",
         "d2696a5373aba207c988904bfbcab38e",
         "RSNA-ASNR-MICCAI-BraTS-2021/BraTS2021_TrainingSet/TCGA-LGG/BraTS2021_01485/BraTS2021_01485_seg.nii.gz"
        ],
        [
         "310839",
         "b588a287cb26d16e50d2d6f47fe1fe61",
         "RSNA-ASNR-MICCAI-BraTS-2021/BraTS2021_TrainingSet/TCGA-LGG/BraTS2021_01492/BraTS2021_01492_seg.nii.gz"
        ],
        [
         "311716",
         "254e35e125b5cab0ea0ceedbdc1d7117",
         "RSNA-ASNR-MICCAI-BraTS-2021/BraTS2021_TrainingSet/TCGA-LGG/BraTS2021_01493/BraTS2021_01493_seg.nii.gz"
        ],
        [
         "316324",
         "2a752d273677b40e72e3240b6150fc9c",
         "RSNA-ASNR-MICCAI-BraTS-2021/BraTS2021_TrainingSet/TCGA-LGG/BraTS2021_01481/BraTS2021_01481_seg.nii.gz"
        ],
        [
         "317561",
         "6bfc833e718121f4448170dbb2ee6a70",
         "RSNA-ASNR-MICCAI-BraTS-2021/BraTS2021_TrainingSet/TCGA-LGG/BraTS2021_01510/BraTS2021_01510_seg.nii.gz"
        ],
        [
         "324396",
         "1488a9396b15b51a3cda1b72d100fab1",
         "RSNA-ASNR-MICCAI-BraTS-2021/BraTS2021_TrainingSet/TCGA-LGG/BraTS2021_01476/BraTS2021_01476_seg.nii.gz"
        ]
       ],
       "shape": {
        "columns": 2,
        "rows": 65
       }
      },
      "text/html": [
       "<div>\n",
       "<style scoped>\n",
       "    .dataframe tbody tr th:only-of-type {\n",
       "        vertical-align: middle;\n",
       "    }\n",
       "\n",
       "    .dataframe tbody tr th {\n",
       "        vertical-align: top;\n",
       "    }\n",
       "\n",
       "    .dataframe thead th {\n",
       "        text-align: right;\n",
       "    }\n",
       "</style>\n",
       "<table border=\"1\" class=\"dataframe\">\n",
       "  <thead>\n",
       "    <tr style=\"text-align: right;\">\n",
       "      <th></th>\n",
       "      <th>md5</th>\n",
       "      <th>file_name</th>\n",
       "    </tr>\n",
       "  </thead>\n",
       "  <tbody>\n",
       "    <tr>\n",
       "      <th>22603</th>\n",
       "      <td>43842f85c51c403bad28099bd0796ae3</td>\n",
       "      <td>RSNA-ASNR-MICCAI-BraTS-2021/BraTS2021_Training...</td>\n",
       "    </tr>\n",
       "    <tr>\n",
       "      <th>28831</th>\n",
       "      <td>f4475676f10bc536e69792d4df49d279</td>\n",
       "      <td>RSNA-ASNR-MICCAI-BraTS-2021/BraTS2021_Training...</td>\n",
       "    </tr>\n",
       "    <tr>\n",
       "      <th>40736</th>\n",
       "      <td>6ac24699c02c44f45c27075386f07c92</td>\n",
       "      <td>RSNA-ASNR-MICCAI-BraTS-2021/BraTS2021_Training...</td>\n",
       "    </tr>\n",
       "    <tr>\n",
       "      <th>53836</th>\n",
       "      <td>8a867017c8b7745aa13f95b508c6fea1</td>\n",
       "      <td>RSNA-ASNR-MICCAI-BraTS-2021/BraTS2021_Training...</td>\n",
       "    </tr>\n",
       "    <tr>\n",
       "      <th>61695</th>\n",
       "      <td>3ebabd8adec975c2bc8a2fdb34916481</td>\n",
       "      <td>RSNA-ASNR-MICCAI-BraTS-2021/BraTS2021_Training...</td>\n",
       "    </tr>\n",
       "    <tr>\n",
       "      <th>...</th>\n",
       "      <td>...</td>\n",
       "      <td>...</td>\n",
       "    </tr>\n",
       "    <tr>\n",
       "      <th>367745</th>\n",
       "      <td>c07fbafa4de5fd2c83e541257056396e</td>\n",
       "      <td>RSNA-ASNR-MICCAI-BraTS-2021/BraTS2021_Training...</td>\n",
       "    </tr>\n",
       "    <tr>\n",
       "      <th>377866</th>\n",
       "      <td>b64967350af1178766bc8d02bea5815e</td>\n",
       "      <td>RSNA-ASNR-MICCAI-BraTS-2021/BraTS2021_Training...</td>\n",
       "    </tr>\n",
       "    <tr>\n",
       "      <th>386888</th>\n",
       "      <td>193fcaef157cb10905487957b673e111</td>\n",
       "      <td>RSNA-ASNR-MICCAI-BraTS-2021/BraTS2021_Training...</td>\n",
       "    </tr>\n",
       "    <tr>\n",
       "      <th>388449</th>\n",
       "      <td>0a274f39e94c9910964b07a8e707d55b</td>\n",
       "      <td>RSNA-ASNR-MICCAI-BraTS-2021/BraTS2021_Training...</td>\n",
       "    </tr>\n",
       "    <tr>\n",
       "      <th>396618</th>\n",
       "      <td>4b41db3f236dac19de9f1cbd287ea225</td>\n",
       "      <td>RSNA-ASNR-MICCAI-BraTS-2021/BraTS2021_Training...</td>\n",
       "    </tr>\n",
       "  </tbody>\n",
       "</table>\n",
       "<p>65 rows × 2 columns</p>\n",
       "</div>"
      ],
      "text/plain": [
       "                                     md5  \\\n",
       "22603   43842f85c51c403bad28099bd0796ae3   \n",
       "28831   f4475676f10bc536e69792d4df49d279   \n",
       "40736   6ac24699c02c44f45c27075386f07c92   \n",
       "53836   8a867017c8b7745aa13f95b508c6fea1   \n",
       "61695   3ebabd8adec975c2bc8a2fdb34916481   \n",
       "...                                  ...   \n",
       "367745  c07fbafa4de5fd2c83e541257056396e   \n",
       "377866  b64967350af1178766bc8d02bea5815e   \n",
       "386888  193fcaef157cb10905487957b673e111   \n",
       "388449  0a274f39e94c9910964b07a8e707d55b   \n",
       "396618  4b41db3f236dac19de9f1cbd287ea225   \n",
       "\n",
       "                                                file_name  \n",
       "22603   RSNA-ASNR-MICCAI-BraTS-2021/BraTS2021_Training...  \n",
       "28831   RSNA-ASNR-MICCAI-BraTS-2021/BraTS2021_Training...  \n",
       "40736   RSNA-ASNR-MICCAI-BraTS-2021/BraTS2021_Training...  \n",
       "53836   RSNA-ASNR-MICCAI-BraTS-2021/BraTS2021_Training...  \n",
       "61695   RSNA-ASNR-MICCAI-BraTS-2021/BraTS2021_Training...  \n",
       "...                                                   ...  \n",
       "367745  RSNA-ASNR-MICCAI-BraTS-2021/BraTS2021_Training...  \n",
       "377866  RSNA-ASNR-MICCAI-BraTS-2021/BraTS2021_Training...  \n",
       "386888  RSNA-ASNR-MICCAI-BraTS-2021/BraTS2021_Training...  \n",
       "388449  RSNA-ASNR-MICCAI-BraTS-2021/BraTS2021_Training...  \n",
       "396618  RSNA-ASNR-MICCAI-BraTS-2021/BraTS2021_Training...  \n",
       "\n",
       "[65 rows x 2 columns]"
      ]
     },
     "execution_count": 55,
     "metadata": {},
     "output_type": "execute_result"
    }
   ],
   "source": [
    "aspera_sums_data[aspera_sums_data['file_name'].str.contains(r\"TrainingSet/TCGA-LGG.*seg.*\")]"
   ]
  },
  {
   "cell_type": "code",
   "execution_count": 52,
   "metadata": {},
   "outputs": [
    {
     "data": {
      "application/vnd.microsoft.datawrangler.viewer.v0+json": {
       "columns": [
        {
         "name": "index",
         "rawType": "int64",
         "type": "integer"
        },
        {
         "name": "md5",
         "rawType": "object",
         "type": "string"
        },
        {
         "name": "file_name",
         "rawType": "object",
         "type": "string"
        }
       ],
       "conversionMethod": "pd.DataFrame",
       "ref": "59c629e4-9140-4d74-99b5-c20ab33a515c",
       "rows": [],
       "shape": {
        "columns": 2,
        "rows": 0
       }
      },
      "text/html": [
       "<div>\n",
       "<style scoped>\n",
       "    .dataframe tbody tr th:only-of-type {\n",
       "        vertical-align: middle;\n",
       "    }\n",
       "\n",
       "    .dataframe tbody tr th {\n",
       "        vertical-align: top;\n",
       "    }\n",
       "\n",
       "    .dataframe thead th {\n",
       "        text-align: right;\n",
       "    }\n",
       "</style>\n",
       "<table border=\"1\" class=\"dataframe\">\n",
       "  <thead>\n",
       "    <tr style=\"text-align: right;\">\n",
       "      <th></th>\n",
       "      <th>md5</th>\n",
       "      <th>file_name</th>\n",
       "    </tr>\n",
       "  </thead>\n",
       "  <tbody>\n",
       "  </tbody>\n",
       "</table>\n",
       "</div>"
      ],
      "text/plain": [
       "Empty DataFrame\n",
       "Columns: [md5, file_name]\n",
       "Index: []"
      ]
     },
     "execution_count": 52,
     "metadata": {},
     "output_type": "execute_result"
    }
   ],
   "source": [
    "aspera_sums_data[aspera_sums_data['file_name'].str.contains(r\"ValidationSet/IvyGAP.*seg.*\")]"
   ]
  },
  {
   "cell_type": "code",
   "execution_count": 39,
   "metadata": {},
   "outputs": [
    {
     "name": "stdout",
     "output_type": "stream",
     "text": [
      "Number of segmentation files: 1503\n",
      "Number of unique patient IDs: 501\n"
     ]
    }
   ],
   "source": [
    "segmentation_identifier = \"_segmentation\"\n",
    "segmentation_rows = aspera_sums_data[aspera_sums_data.file_name.str.contains(segmentation_identifier)]\n",
    "patid_series = pd.Series(data=[Path(file_path).parent.stem for file_path in segmentation_rows.file_name.to_list()])\n",
    "\n",
    "print(f\"Number of segmentation files: {len(segmentation_rows)}\")\n",
    "print(f\"Number of unique patient IDs: {patid_series.nunique()}\")"
   ]
  },
  {
   "cell_type": "code",
   "execution_count": 40,
   "metadata": {},
   "outputs": [
    {
     "data": {
      "text/plain": [
       "10026"
      ]
     },
     "execution_count": 40,
     "metadata": {},
     "output_type": "execute_result"
    }
   ],
   "source": [
    "len(aspera_sums_data) - len(segmentation_rows)"
   ]
  },
  {
   "cell_type": "code",
   "execution_count": 19,
   "metadata": {},
   "outputs": [
    {
     "data": {
      "text/plain": [
       "array(['ai_PD-1-Lung-00001', 'ai_PD-1-Lung-00002', 'ai_PD-1-Lung-00003',\n",
       "       'ai_PD-1-Lung-00004', 'ai_PD-1-Lung-00005', 'ai_PD-1-Lung-00006',\n",
       "       'ai_PD-1-Lung-00007', 'ai_PD-1-Lung-00008', 'ai_PD-1-Lung-00009',\n",
       "       'ai_PD-1-Lung-00010', 'ai_PD-1-Lung-00011', 'ai_PD-1-Lung-00012',\n",
       "       'ai_PD-1-Lung-00013', 'ai_PD-1-Lung-00014', 'ai_PD-1-Lung-00015',\n",
       "       'ai_PD-1-Lung-00016', 'ai_PD-1-Lung-00017', 'ai_PD-1-Lung-00018',\n",
       "       'ai_PD-1-Lung-00019', 'ai_PD-1-Lung-00020', 'ai_PD-1-Lung-00022',\n",
       "       'ai_PD-1-Lung-00023', 'ai_PD-1-Lung-00025', 'ai_PD-1-Lung-00026',\n",
       "       'ai_PD-1-Lung-00027', 'ai_PD-1-Lung-00028', 'ai_PD-1-Lung-00029',\n",
       "       'ai_PD-1-Lung-00030', 'ai_PD-1-Lung-00031', 'ai_PD-1-Lung-00032',\n",
       "       'ai_PD-1-Lung-00034', 'ai_PD-1-Lung-00035', 'ai_PD-1-Lung-00036',\n",
       "       'ai_PD-1-Lung-00037', 'ai_PD-1-Lung-00038', 'ai_PD-1-Lung-00041',\n",
       "       'ai_PD-1-Lung-00042', 'ai_PD-1-Lung-00043', 'ai_PD-1-Lung-00044',\n",
       "       'ai_PD-1-Lung-00045', 'ai_PD-1-Lung-00046'], dtype=object)"
      ]
     },
     "execution_count": 19,
     "metadata": {},
     "output_type": "execute_result"
    }
   ],
   "source": [
    "pat_ids = []\n",
    "for file in sorted(Path(\"/Users/katyscott/Downloads/lung-ct/ai-segmentations-dcm/\").glob(\"ai_PD-1-Lung*\")):\n",
    "    pat_ids.append(file.stem[0:18])\n",
    "\n",
    "pat_ids_series = pd.Series(pat_ids)\n",
    "pat_ids_series.unique()"
   ]
  },
  {
   "cell_type": "code",
   "execution_count": 20,
   "metadata": {},
   "outputs": [
    {
     "data": {
      "text/plain": [
       "41"
      ]
     },
     "execution_count": 20,
     "metadata": {},
     "output_type": "execute_result"
    }
   ],
   "source": [
    "pat_ids_series.nunique()"
   ]
  },
  {
   "cell_type": "code",
   "execution_count": null,
   "metadata": {},
   "outputs": [],
   "source": []
  }
 ],
 "metadata": {
  "kernelspec": {
   "display_name": "default",
   "language": "python",
   "name": "python3"
  },
  "language_info": {
   "codemirror_mode": {
    "name": "ipython",
    "version": 3
   },
   "file_extension": ".py",
   "mimetype": "text/x-python",
   "name": "python",
   "nbconvert_exporter": "python",
   "pygments_lexer": "ipython3",
   "version": "3.13.2"
  }
 },
 "nbformat": 4,
 "nbformat_minor": 2
}
