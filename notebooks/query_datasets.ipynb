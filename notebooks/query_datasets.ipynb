{
 "cells": [
  {
   "cell_type": "code",
   "execution_count": 2,
   "id": "import-and-read",
   "metadata": {},
   "outputs": [
    {
     "data": {
      "application/vnd.microsoft.datawrangler.viewer.v0+json": {
       "columns": [
        {
         "name": "index",
         "rawType": "int64",
         "type": "integer"
        },
        {
         "name": "Collection",
         "rawType": "object",
         "type": "string"
        },
        {
         "name": "PatientID",
         "rawType": "object",
         "type": "string"
        },
        {
         "name": "StudyInstanceUID",
         "rawType": "object",
         "type": "string"
        },
        {
         "name": "Modality",
         "rawType": "object",
         "type": "string"
        },
        {
         "name": "SeriesInstanceUID",
         "rawType": "object",
         "type": "string"
        },
        {
         "name": "SeriesNumber",
         "rawType": "float64",
         "type": "float"
        },
        {
         "name": "SeriesDate",
         "rawType": "object",
         "type": "string"
        },
        {
         "name": "BodyPartExamined",
         "rawType": "object",
         "type": "string"
        },
        {
         "name": "ImageCount",
         "rawType": "int64",
         "type": "integer"
        },
        {
         "name": "TimeStamp",
         "rawType": "object",
         "type": "string"
        },
        {
         "name": "CollectionURI",
         "rawType": "object",
         "type": "string"
        },
        {
         "name": "FileSize",
         "rawType": "int64",
         "type": "integer"
        },
        {
         "name": "DateReleased",
         "rawType": "object",
         "type": "string"
        }
       ],
       "conversionMethod": "pd.DataFrame",
       "ref": "145d4216-62a4-4fef-8546-cedc184b4b7f",
       "rows": [
        [
         "0",
         "4D-Lung",
         "100_HM10395",
         "1.3.6.1.4.1.14519.5.2.1.6834.5010.552215730027211807644647167706",
         "CT",
         "1.3.6.1.4.1.14519.5.2.1.6834.5010.189721824525842725510380467695",
         "507.0",
         "1997-10-03 00:00:00.0",
         "LUNG",
         "50",
         "2015-07-20 17:58:54.0",
         "https://doi.org/10.7937/K9/TCIA.2016.ELN8YGLE",
         "26405988",
         "2015-07-20 17:58:54.0"
        ],
        [
         "1",
         "4D-Lung",
         "100_HM10395",
         "1.3.6.1.4.1.14519.5.2.1.6834.5010.980344486630714096442107526343",
         "CT",
         "1.3.6.1.4.1.14519.5.2.1.6834.5010.336250251691987239290048605884",
         "507.0",
         "1997-10-07 00:00:00.0",
         "LUNG",
         "50",
         "2015-07-20 17:40:07.0",
         "https://doi.org/10.7937/K9/TCIA.2016.ELN8YGLE",
         "26405988",
         "2015-07-20 17:40:07.0"
        ],
        [
         "2",
         "4D-Lung",
         "100_HM10395",
         "1.3.6.1.4.1.14519.5.2.1.6834.5010.157653211810935313972138213721",
         "CT",
         "1.3.6.1.4.1.14519.5.2.1.6834.5010.227929163446067537882961857921",
         "503.0",
         "1997-09-18 00:00:00.0",
         "LUNG",
         "50",
         "2015-07-20 17:56:27.0",
         "https://doi.org/10.7937/K9/TCIA.2016.ELN8YGLE",
         "26405988",
         "2015-07-20 17:56:27.0"
        ],
        [
         "3",
         "4D-Lung",
         "100_HM10395",
         "1.3.6.1.4.1.14519.5.2.1.6834.5010.256783235670374561358545877407",
         "CT",
         "1.3.6.1.4.1.14519.5.2.1.6834.5010.925990093742075237571072608963",
         "502.0",
         "1997-10-14 00:00:00.0",
         "LUNG",
         "50",
         "2015-07-20 17:55:30.0",
         "https://doi.org/10.7937/K9/TCIA.2016.ELN8YGLE",
         "26405988",
         "2015-07-20 17:55:30.0"
        ],
        [
         "4",
         "4D-Lung",
         "100_HM10395",
         "1.3.6.1.4.1.14519.5.2.1.6834.5010.980344486630714096442107526343",
         "CT",
         "1.3.6.1.4.1.14519.5.2.1.6834.5010.139116724721865252687455544825",
         "501.0",
         "1997-10-07 00:00:00.0",
         "LUNG",
         "50",
         "2015-07-20 17:51:12.0",
         "https://doi.org/10.7937/K9/TCIA.2016.ELN8YGLE",
         "26405988",
         "2015-07-20 17:51:12.0"
        ]
       ],
       "shape": {
        "columns": 13,
        "rows": 5
       }
      },
      "text/html": [
       "<div>\n",
       "<style scoped>\n",
       "    .dataframe tbody tr th:only-of-type {\n",
       "        vertical-align: middle;\n",
       "    }\n",
       "\n",
       "    .dataframe tbody tr th {\n",
       "        vertical-align: top;\n",
       "    }\n",
       "\n",
       "    .dataframe thead th {\n",
       "        text-align: right;\n",
       "    }\n",
       "</style>\n",
       "<table border=\"1\" class=\"dataframe\">\n",
       "  <thead>\n",
       "    <tr style=\"text-align: right;\">\n",
       "      <th></th>\n",
       "      <th>Collection</th>\n",
       "      <th>PatientID</th>\n",
       "      <th>StudyInstanceUID</th>\n",
       "      <th>Modality</th>\n",
       "      <th>SeriesInstanceUID</th>\n",
       "      <th>SeriesNumber</th>\n",
       "      <th>SeriesDate</th>\n",
       "      <th>BodyPartExamined</th>\n",
       "      <th>ImageCount</th>\n",
       "      <th>TimeStamp</th>\n",
       "      <th>CollectionURI</th>\n",
       "      <th>FileSize</th>\n",
       "      <th>DateReleased</th>\n",
       "    </tr>\n",
       "  </thead>\n",
       "  <tbody>\n",
       "    <tr>\n",
       "      <th>0</th>\n",
       "      <td>4D-Lung</td>\n",
       "      <td>100_HM10395</td>\n",
       "      <td>1.3.6.1.4.1.14519.5.2.1.6834.5010.552215730027...</td>\n",
       "      <td>CT</td>\n",
       "      <td>1.3.6.1.4.1.14519.5.2.1.6834.5010.189721824525...</td>\n",
       "      <td>507.0</td>\n",
       "      <td>1997-10-03 00:00:00.0</td>\n",
       "      <td>LUNG</td>\n",
       "      <td>50</td>\n",
       "      <td>2015-07-20 17:58:54.0</td>\n",
       "      <td>https://doi.org/10.7937/K9/TCIA.2016.ELN8YGLE</td>\n",
       "      <td>26405988</td>\n",
       "      <td>2015-07-20 17:58:54.0</td>\n",
       "    </tr>\n",
       "    <tr>\n",
       "      <th>1</th>\n",
       "      <td>4D-Lung</td>\n",
       "      <td>100_HM10395</td>\n",
       "      <td>1.3.6.1.4.1.14519.5.2.1.6834.5010.980344486630...</td>\n",
       "      <td>CT</td>\n",
       "      <td>1.3.6.1.4.1.14519.5.2.1.6834.5010.336250251691...</td>\n",
       "      <td>507.0</td>\n",
       "      <td>1997-10-07 00:00:00.0</td>\n",
       "      <td>LUNG</td>\n",
       "      <td>50</td>\n",
       "      <td>2015-07-20 17:40:07.0</td>\n",
       "      <td>https://doi.org/10.7937/K9/TCIA.2016.ELN8YGLE</td>\n",
       "      <td>26405988</td>\n",
       "      <td>2015-07-20 17:40:07.0</td>\n",
       "    </tr>\n",
       "    <tr>\n",
       "      <th>2</th>\n",
       "      <td>4D-Lung</td>\n",
       "      <td>100_HM10395</td>\n",
       "      <td>1.3.6.1.4.1.14519.5.2.1.6834.5010.157653211810...</td>\n",
       "      <td>CT</td>\n",
       "      <td>1.3.6.1.4.1.14519.5.2.1.6834.5010.227929163446...</td>\n",
       "      <td>503.0</td>\n",
       "      <td>1997-09-18 00:00:00.0</td>\n",
       "      <td>LUNG</td>\n",
       "      <td>50</td>\n",
       "      <td>2015-07-20 17:56:27.0</td>\n",
       "      <td>https://doi.org/10.7937/K9/TCIA.2016.ELN8YGLE</td>\n",
       "      <td>26405988</td>\n",
       "      <td>2015-07-20 17:56:27.0</td>\n",
       "    </tr>\n",
       "    <tr>\n",
       "      <th>3</th>\n",
       "      <td>4D-Lung</td>\n",
       "      <td>100_HM10395</td>\n",
       "      <td>1.3.6.1.4.1.14519.5.2.1.6834.5010.256783235670...</td>\n",
       "      <td>CT</td>\n",
       "      <td>1.3.6.1.4.1.14519.5.2.1.6834.5010.925990093742...</td>\n",
       "      <td>502.0</td>\n",
       "      <td>1997-10-14 00:00:00.0</td>\n",
       "      <td>LUNG</td>\n",
       "      <td>50</td>\n",
       "      <td>2015-07-20 17:55:30.0</td>\n",
       "      <td>https://doi.org/10.7937/K9/TCIA.2016.ELN8YGLE</td>\n",
       "      <td>26405988</td>\n",
       "      <td>2015-07-20 17:55:30.0</td>\n",
       "    </tr>\n",
       "    <tr>\n",
       "      <th>4</th>\n",
       "      <td>4D-Lung</td>\n",
       "      <td>100_HM10395</td>\n",
       "      <td>1.3.6.1.4.1.14519.5.2.1.6834.5010.980344486630...</td>\n",
       "      <td>CT</td>\n",
       "      <td>1.3.6.1.4.1.14519.5.2.1.6834.5010.139116724721...</td>\n",
       "      <td>501.0</td>\n",
       "      <td>1997-10-07 00:00:00.0</td>\n",
       "      <td>LUNG</td>\n",
       "      <td>50</td>\n",
       "      <td>2015-07-20 17:51:12.0</td>\n",
       "      <td>https://doi.org/10.7937/K9/TCIA.2016.ELN8YGLE</td>\n",
       "      <td>26405988</td>\n",
       "      <td>2015-07-20 17:51:12.0</td>\n",
       "    </tr>\n",
       "  </tbody>\n",
       "</table>\n",
       "</div>"
      ],
      "text/plain": [
       "  Collection    PatientID                                   StudyInstanceUID  \\\n",
       "0    4D-Lung  100_HM10395  1.3.6.1.4.1.14519.5.2.1.6834.5010.552215730027...   \n",
       "1    4D-Lung  100_HM10395  1.3.6.1.4.1.14519.5.2.1.6834.5010.980344486630...   \n",
       "2    4D-Lung  100_HM10395  1.3.6.1.4.1.14519.5.2.1.6834.5010.157653211810...   \n",
       "3    4D-Lung  100_HM10395  1.3.6.1.4.1.14519.5.2.1.6834.5010.256783235670...   \n",
       "4    4D-Lung  100_HM10395  1.3.6.1.4.1.14519.5.2.1.6834.5010.980344486630...   \n",
       "\n",
       "  Modality                                  SeriesInstanceUID  SeriesNumber  \\\n",
       "0       CT  1.3.6.1.4.1.14519.5.2.1.6834.5010.189721824525...         507.0   \n",
       "1       CT  1.3.6.1.4.1.14519.5.2.1.6834.5010.336250251691...         507.0   \n",
       "2       CT  1.3.6.1.4.1.14519.5.2.1.6834.5010.227929163446...         503.0   \n",
       "3       CT  1.3.6.1.4.1.14519.5.2.1.6834.5010.925990093742...         502.0   \n",
       "4       CT  1.3.6.1.4.1.14519.5.2.1.6834.5010.139116724721...         501.0   \n",
       "\n",
       "              SeriesDate BodyPartExamined  ImageCount              TimeStamp  \\\n",
       "0  1997-10-03 00:00:00.0             LUNG          50  2015-07-20 17:58:54.0   \n",
       "1  1997-10-07 00:00:00.0             LUNG          50  2015-07-20 17:40:07.0   \n",
       "2  1997-09-18 00:00:00.0             LUNG          50  2015-07-20 17:56:27.0   \n",
       "3  1997-10-14 00:00:00.0             LUNG          50  2015-07-20 17:55:30.0   \n",
       "4  1997-10-07 00:00:00.0             LUNG          50  2015-07-20 17:51:12.0   \n",
       "\n",
       "                                   CollectionURI  FileSize  \\\n",
       "0  https://doi.org/10.7937/K9/TCIA.2016.ELN8YGLE  26405988   \n",
       "1  https://doi.org/10.7937/K9/TCIA.2016.ELN8YGLE  26405988   \n",
       "2  https://doi.org/10.7937/K9/TCIA.2016.ELN8YGLE  26405988   \n",
       "3  https://doi.org/10.7937/K9/TCIA.2016.ELN8YGLE  26405988   \n",
       "4  https://doi.org/10.7937/K9/TCIA.2016.ELN8YGLE  26405988   \n",
       "\n",
       "            DateReleased  \n",
       "0  2015-07-20 17:58:54.0  \n",
       "1  2015-07-20 17:40:07.0  \n",
       "2  2015-07-20 17:56:27.0  \n",
       "3  2015-07-20 17:55:30.0  \n",
       "4  2015-07-20 17:51:12.0  "
      ]
     },
     "execution_count": 2,
     "metadata": {},
     "output_type": "execute_result"
    }
   ],
   "source": [
    "import pandas as pd\n",
    "\n",
    "file_path = '../rawdata/AllSeries.tsv'\n",
    "data = pd.read_csv(file_path, sep='\\t')\n",
    "\n",
    "data.head()"
   ]
  },
  {
   "cell_type": "code",
   "execution_count": 3,
   "id": "compute-stats",
   "metadata": {},
   "outputs": [
    {
     "name": "stdout",
     "output_type": "stream",
     "text": [
      "Sample size: 31\n",
      "CT count: 93\n",
      "RTDOSE count: 93\n",
      "RTSTRUCT count: 185\n",
      "Images per patient range: [np.int64(11), np.int64(12)]\n",
      "Samples with segmentation data: {'RTSTRUCT': 31, 'SEG': 0}\n"
     ]
    }
   ],
   "source": [
    "# filter for Collection \n",
    "filtered_data = data[(data['Collection'] == 'HNSCC-3DCT-RT')]\n",
    "\n",
    "# sample size (unique PatientIDs)\n",
    "sample_size = filtered_data['PatientID'].nunique()\n",
    "\n",
    "# modality counts for CT, MR, PT, RTSTRUCT, SEG\n",
    "modalities = list(set(filtered_data[\"Modality\"]))\n",
    "modality_counts = {modality: filtered_data[filtered_data['Modality'] == modality]['SeriesInstanceUID'].nunique() for modality in modalities}\n",
    "\n",
    "# number of samples with segmentations\n",
    "seg_modalities = [\"RTSTRUCT\", \"SEG\"]\n",
    "seg_counts = {seg_modality: filtered_data[filtered_data['Modality'] == seg_modality]['PatientID'].nunique() for seg_modality in seg_modalities}\n",
    "\n",
    "# images / patient (range of unique SeriesInstanceUIDs for each unique PatientID)\n",
    "images_per_patient = filtered_data.groupby('PatientID')['SeriesInstanceUID'].nunique().unique()\n",
    "images_per_patient_range = sorted(images_per_patient)\n",
    "\n",
    "print(f'Sample size: {sample_size}')\n",
    "for modality, count in modality_counts.items():\n",
    "    print(f'{modality} count: {count}')\n",
    "print(f'Images per patient range: {images_per_patient_range}')\n",
    "print(f'Samples with segmentation data: {seg_counts}')"
   ]
  },
  {
   "cell_type": "code",
   "execution_count": null,
   "metadata": {},
   "outputs": [],
   "source": []
  }
 ],
 "metadata": {
  "kernelspec": {
   "display_name": "default",
   "language": "python",
   "name": "python3"
  },
  "language_info": {
   "codemirror_mode": {
    "name": "ipython",
    "version": 3
   },
   "file_extension": ".py",
   "mimetype": "text/x-python",
   "name": "python",
   "nbconvert_exporter": "python",
   "pygments_lexer": "ipython3",
   "version": "3.13.2"
  }
 },
 "nbformat": 4,
 "nbformat_minor": 2
}
