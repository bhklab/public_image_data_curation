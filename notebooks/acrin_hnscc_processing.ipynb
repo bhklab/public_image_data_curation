{
 "cells": [
  {
   "cell_type": "code",
   "execution_count": 1,
   "metadata": {},
   "outputs": [],
   "source": [
    "import pandas as pd \n",
    "from pathlib import Path\n",
    "import numpy as np"
   ]
  },
  {
   "cell_type": "code",
   "execution_count": 29,
   "metadata": {},
   "outputs": [],
   "source": [
    "acrin_reviewed_data_dict_file = Path(\"../rawdata/acrin_6685_clinical/ACRIN 6685 HB HNSCC FDG PET:CT TCIA Reviewed/QIN_6685 Data Dictionary.xlsx\")\n",
    "\n",
    "data_dicts = pd.read_excel(acrin_reviewed_data_dict_file, sheet_name=None)"
   ]
  },
  {
   "cell_type": "code",
   "execution_count": 34,
   "metadata": {},
   "outputs": [],
   "source": [
    "available_variables = set()\n",
    "\n",
    "for sheet in data_dicts.values():\n",
    "    if \"Variable Label\" in sheet.columns:\n",
    "        available_variables.update(sheet['Variable Label'].unique())"
   ]
  },
  {
   "cell_type": "code",
   "execution_count": 46,
   "metadata": {},
   "outputs": [],
   "source": [
    "cleaned_variables = []\n",
    "for val in available_variables:\n",
    "    if isinstance(val, str):\n",
    "        val = val.strip()\n",
    "        val = val.strip('\\\"')\n",
    "        cleaned_variables.append(val)\n",
    "\n",
    "\n",
    "cleaned_variables = pd.Series(cleaned_variables)"
   ]
  },
  {
   "cell_type": "code",
   "execution_count": 49,
   "metadata": {},
   "outputs": [],
   "source": [
    "output_path = Path(\"../procdata/acrin_hnscc/cleaned_variables.csv\")\n",
    "output_path.parent.mkdir(parents=True, exist_ok=True)\n",
    "cleaned_variables.to_csv(output_path, index=False)"
   ]
  },
  {
   "cell_type": "code",
   "execution_count": 48,
   "metadata": {},
   "outputs": [
    {
     "data": {
      "text/plain": [
       "760"
      ]
     },
     "execution_count": 48,
     "metadata": {},
     "output_type": "execute_result"
    }
   ],
   "source": [
    "len(available_variables)"
   ]
  },
  {
   "cell_type": "code",
   "execution_count": null,
   "metadata": {},
   "outputs": [
    {
     "data": {
      "text/plain": [
       "False"
      ]
     },
     "execution_count": 50,
     "metadata": {},
     "output_type": "execute_result"
    }
   ],
   "source": []
  },
  {
   "cell_type": "code",
   "execution_count": null,
   "metadata": {},
   "outputs": [],
   "source": []
  }
 ],
 "metadata": {
  "kernelspec": {
   "display_name": "default",
   "language": "python",
   "name": "python3"
  },
  "language_info": {
   "codemirror_mode": {
    "name": "ipython",
    "version": 3
   },
   "file_extension": ".py",
   "mimetype": "text/x-python",
   "name": "python",
   "nbconvert_exporter": "python",
   "pygments_lexer": "ipython3",
   "version": "3.13.2"
  }
 },
 "nbformat": 4,
 "nbformat_minor": 2
}
