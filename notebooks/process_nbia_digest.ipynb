{
 "cells": [
  {
   "cell_type": "code",
   "execution_count": 1,
   "metadata": {},
   "outputs": [],
   "source": [
    "import pandas as pd\n",
    "from pathlib import Path\n",
    "import numpy as np"
   ]
  },
  {
   "cell_type": "code",
   "execution_count": 2,
   "metadata": {},
   "outputs": [],
   "source": [
    "digest_file_path = Path(\"/Users/katyscott/Downloads/TCIA_FDG-PET-CT-Lesions_v1-nbia-digest.xlsx\")"
   ]
  },
  {
   "cell_type": "code",
   "execution_count": 3,
   "metadata": {},
   "outputs": [
    {
     "name": "stdout",
     "output_type": "stream",
     "text": [
      "Sample size: 900\n",
      "PT count: 1014\n",
      "CT count: 1014\n",
      "SEG count: 1014\n",
      "Images per patient range: [ 3  6  9 12 15]\n",
      "Samples with segmentation data: {'RTSTRUCT': 0, 'SEG': 900}\n"
     ]
    }
   ],
   "source": [
    "filtered_data = pd.read_excel(digest_file_path)\n",
    "\n",
    "# sample size (unique PatientIDs)\n",
    "sample_size = filtered_data['Patient ID'].nunique()\n",
    "\n",
    "# modality counts for CT, MR, PT, RTSTRUCT, SEG\n",
    "modalities = list(set(filtered_data[\"Modality\"]))\n",
    "modality_counts = {modality: filtered_data[filtered_data['Modality'] == modality]['Series Instance UID'].nunique() for modality in modalities}\n",
    "\n",
    "# number of samples with segmentations\n",
    "seg_modalities = [\"RTSTRUCT\", \"SEG\"]\n",
    "seg_counts = {seg_modality: filtered_data[filtered_data['Modality'] == seg_modality]['Patient ID'].nunique() for seg_modality in seg_modalities}\n",
    "\n",
    "# images / patient (range of unique SeriesInstanceUIDs for each unique PatientID)\n",
    "images_per_patient = filtered_data.groupby('Patient ID')['Series Instance UID'].nunique().unique()\n",
    "images_per_patient_range = np.sort(images_per_patient)\n",
    "\n",
    "print(f'Sample size: {sample_size}')\n",
    "for modality, count in modality_counts.items():\n",
    "    print(f'{modality} count: {count}')\n",
    "print(f'Images per patient range: {images_per_patient_range}')\n",
    "print(f'Samples with segmentation data: {seg_counts}')"
   ]
  },
  {
   "cell_type": "code",
   "execution_count": null,
   "metadata": {},
   "outputs": [],
   "source": [
    "clinical_file_excel = Path(\"/Users/katyscott/Downloads/Meningioma-SEG-Class-Clinical-Data.xlsx\")\n",
    "\n",
    "clinical_data = pd.read_excel(clinical_file_excel, sheet_name=None)\n",
    "clinical_data.keys()"
   ]
  },
  {
   "cell_type": "code",
   "execution_count": null,
   "metadata": {},
   "outputs": [],
   "source": [
    "clinical_data['Clinical Data'].Patient.nunique(dropna=True)"
   ]
  },
  {
   "cell_type": "code",
   "execution_count": 4,
   "metadata": {},
   "outputs": [
    {
     "data": {
      "text/plain": [
       "Index(['Series UID', 'Collection', '3rd Party Analysis',\n",
       "       'Data Description URI', 'Subject ID', 'Study UID', 'Study Description',\n",
       "       'Study Date', 'Series Description', 'Manufacturer', 'Modality',\n",
       "       'SOP Class Name', 'SOP Class UID', 'Number of Images', 'File Size',\n",
       "       'File Location', 'Download Timestamp', 'diagnosis', 'age', 'sex'],\n",
       "      dtype='object')"
      ]
     },
     "execution_count": 4,
     "metadata": {},
     "output_type": "execute_result"
    }
   ],
   "source": [
    "clinical_file_csv = Path(\"/Users/katyscott/Downloads/Clinical-Metadata-FDG-PET_CT-Lesions.csv\")\n",
    "clinical_data = pd.read_csv(clinical_file_csv)\n",
    "clinical_data.columns"
   ]
  },
  {
   "cell_type": "code",
   "execution_count": 17,
   "metadata": {},
   "outputs": [
    {
     "data": {
      "application/vnd.microsoft.datawrangler.viewer.v0+json": {
       "columns": [
        {
         "name": "Subject ID",
         "rawType": "object",
         "type": "string"
        },
        {
         "name": "diagnosis",
         "rawType": "int64",
         "type": "integer"
        }
       ],
       "conversionMethod": "pd.DataFrame",
       "ref": "9c3ce3d6-ac8a-44b7-a13c-946fb1750191",
       "rows": [
        [
         "PETCT_0143bab87a",
         "1"
        ],
        [
         "PETCT_0225325b91",
         "1"
        ],
        [
         "PETCT_0410759456",
         "1"
        ],
        [
         "PETCT_048981112f",
         "1"
        ],
        [
         "PETCT_05bed31780",
         "1"
        ],
        [
         "PETCT_05d5a79faf",
         "1"
        ],
        [
         "PETCT_05d8640f52",
         "1"
        ],
        [
         "PETCT_06d55e8295",
         "1"
        ],
        [
         "PETCT_072833774e",
         "1"
        ],
        [
         "PETCT_07b7e9abfc",
         "1"
        ],
        [
         "PETCT_07fec0d985",
         "1"
        ],
        [
         "PETCT_080922db5a",
         "1"
        ],
        [
         "PETCT_08198c4f0c",
         "1"
        ],
        [
         "PETCT_098c4b7b87",
         "1"
        ],
        [
         "PETCT_0af7ffe12a",
         "1"
        ],
        [
         "PETCT_0c13e4df10",
         "1"
        ],
        [
         "PETCT_0dbf2c2731",
         "1"
        ],
        [
         "PETCT_0e9a98ecda",
         "1"
        ],
        [
         "PETCT_141fffa2a9",
         "1"
        ],
        [
         "PETCT_14929994cf",
         "1"
        ],
        [
         "PETCT_1553bd8c8f",
         "1"
        ],
        [
         "PETCT_173b804eda",
         "1"
        ],
        [
         "PETCT_176bdc5388",
         "1"
        ],
        [
         "PETCT_1774857f8e",
         "1"
        ],
        [
         "PETCT_1781ba966c",
         "1"
        ],
        [
         "PETCT_17b46d7275",
         "1"
        ],
        [
         "PETCT_182bdeba22",
         "1"
        ],
        [
         "PETCT_185bac7954",
         "1"
        ],
        [
         "PETCT_1928952a0f",
         "1"
        ],
        [
         "PETCT_193dea6ac7",
         "1"
        ],
        [
         "PETCT_1a3d4e63ee",
         "1"
        ],
        [
         "PETCT_1a8bd52f71",
         "1"
        ],
        [
         "PETCT_1ac497ed9d",
         "1"
        ],
        [
         "PETCT_1bdefef7d5",
         "1"
        ],
        [
         "PETCT_1cb2d26a19",
         "1"
        ],
        [
         "PETCT_1e43e3d692",
         "1"
        ],
        [
         "PETCT_1f2a4f4280",
         "1"
        ],
        [
         "PETCT_1fa22c576e",
         "1"
        ],
        [
         "PETCT_20f4a3aa02",
         "1"
        ],
        [
         "PETCT_2122b88719",
         "1"
        ],
        [
         "PETCT_234f8427c0",
         "1"
        ],
        [
         "PETCT_2428b44e92",
         "1"
        ],
        [
         "PETCT_24cb79a92b",
         "1"
        ],
        [
         "PETCT_265c26907a",
         "1"
        ],
        [
         "PETCT_2716c9bfff",
         "1"
        ],
        [
         "PETCT_2745fb1adb",
         "1"
        ],
        [
         "PETCT_274688d0a8",
         "1"
        ],
        [
         "PETCT_277fc3c67c",
         "1"
        ],
        [
         "PETCT_2791a0b3c2",
         "1"
        ],
        [
         "PETCT_28a0a0a163",
         "1"
        ]
       ],
       "shape": {
        "columns": 1,
        "rows": 411
       }
      },
      "text/html": [
       "<div>\n",
       "<style scoped>\n",
       "    .dataframe tbody tr th:only-of-type {\n",
       "        vertical-align: middle;\n",
       "    }\n",
       "\n",
       "    .dataframe tbody tr th {\n",
       "        vertical-align: top;\n",
       "    }\n",
       "\n",
       "    .dataframe thead th {\n",
       "        text-align: right;\n",
       "    }\n",
       "</style>\n",
       "<table border=\"1\" class=\"dataframe\">\n",
       "  <thead>\n",
       "    <tr style=\"text-align: right;\">\n",
       "      <th></th>\n",
       "      <th>diagnosis</th>\n",
       "    </tr>\n",
       "    <tr>\n",
       "      <th>Subject ID</th>\n",
       "      <th></th>\n",
       "    </tr>\n",
       "  </thead>\n",
       "  <tbody>\n",
       "    <tr>\n",
       "      <th>PETCT_0143bab87a</th>\n",
       "      <td>1</td>\n",
       "    </tr>\n",
       "    <tr>\n",
       "      <th>PETCT_0225325b91</th>\n",
       "      <td>1</td>\n",
       "    </tr>\n",
       "    <tr>\n",
       "      <th>PETCT_0410759456</th>\n",
       "      <td>1</td>\n",
       "    </tr>\n",
       "    <tr>\n",
       "      <th>PETCT_048981112f</th>\n",
       "      <td>1</td>\n",
       "    </tr>\n",
       "    <tr>\n",
       "      <th>PETCT_05bed31780</th>\n",
       "      <td>1</td>\n",
       "    </tr>\n",
       "    <tr>\n",
       "      <th>...</th>\n",
       "      <td>...</td>\n",
       "    </tr>\n",
       "    <tr>\n",
       "      <th>PETCT_f8de0cde56</th>\n",
       "      <td>1</td>\n",
       "    </tr>\n",
       "    <tr>\n",
       "      <th>PETCT_fa45f610c4</th>\n",
       "      <td>1</td>\n",
       "    </tr>\n",
       "    <tr>\n",
       "      <th>PETCT_fc0389a486</th>\n",
       "      <td>1</td>\n",
       "    </tr>\n",
       "    <tr>\n",
       "      <th>PETCT_ff1451316e</th>\n",
       "      <td>1</td>\n",
       "    </tr>\n",
       "    <tr>\n",
       "      <th>PETCT_ff39795341</th>\n",
       "      <td>1</td>\n",
       "    </tr>\n",
       "  </tbody>\n",
       "</table>\n",
       "<p>411 rows × 1 columns</p>\n",
       "</div>"
      ],
      "text/plain": [
       "                  diagnosis\n",
       "Subject ID                 \n",
       "PETCT_0143bab87a          1\n",
       "PETCT_0225325b91          1\n",
       "PETCT_0410759456          1\n",
       "PETCT_048981112f          1\n",
       "PETCT_05bed31780          1\n",
       "...                     ...\n",
       "PETCT_f8de0cde56          1\n",
       "PETCT_fa45f610c4          1\n",
       "PETCT_fc0389a486          1\n",
       "PETCT_ff1451316e          1\n",
       "PETCT_ff39795341          1\n",
       "\n",
       "[411 rows x 1 columns]"
      ]
     },
     "execution_count": 17,
     "metadata": {},
     "output_type": "execute_result"
    }
   ],
   "source": [
    "diag_patients = clinical_data[clinical_data['diagnosis'].isin(['NEGATIVE'])] #[\"LYMPHOMA\", \"MELANOMA\", \"LUNG_CANCER\"])] #\n",
    "diag_patients = diag_patients['Subject ID'].unique()\n",
    "\n",
    "diag_pat_diagnosis_count = clinical_data[clinical_data['Subject ID'].isin(diag_patients)].groupby(\"Subject ID\").agg({\"diagnosis\": \"nunique\"})\n",
    "diag_pat_single_diagnosis = diag_pat_diagnosis_count[diag_pat_diagnosis_count['diagnosis']==1]\n",
    "diag_pat_single_diagnosis"
   ]
  },
  {
   "cell_type": "code",
   "execution_count": 18,
   "metadata": {},
   "outputs": [
    {
     "data": {
      "text/plain": [
       "Modality\n",
       "CT     471\n",
       "PT     471\n",
       "SEG    471\n",
       "dtype: int64"
      ]
     },
     "execution_count": 18,
     "metadata": {},
     "output_type": "execute_result"
    }
   ],
   "source": [
    "diag_patient_data = clinical_data[clinical_data[\"Subject ID\"].isin(diag_pat_single_diagnosis.index.unique())]\n",
    "diag_patient_data.groupby(\"Modality\").size()"
   ]
  },
  {
   "cell_type": "code",
   "execution_count": 20,
   "metadata": {},
   "outputs": [
    {
     "data": {
      "application/vnd.microsoft.datawrangler.viewer.v0+json": {
       "columns": [
        {
         "name": "Subject ID",
         "rawType": "object",
         "type": "string"
        },
        {
         "name": "Study UID",
         "rawType": "int64",
         "type": "integer"
        }
       ],
       "conversionMethod": "pd.DataFrame",
       "ref": "6ba2aa2e-13a8-4b11-abdd-9984298e172e",
       "rows": [
        [
         "PETCT_0143bab87a",
         "1"
        ],
        [
         "PETCT_0225325b91",
         "1"
        ],
        [
         "PETCT_0410759456",
         "2"
        ],
        [
         "PETCT_048981112f",
         "1"
        ],
        [
         "PETCT_05bed31780",
         "1"
        ],
        [
         "PETCT_05d5a79faf",
         "1"
        ],
        [
         "PETCT_05d8640f52",
         "1"
        ],
        [
         "PETCT_06d55e8295",
         "1"
        ],
        [
         "PETCT_072833774e",
         "1"
        ],
        [
         "PETCT_07b7e9abfc",
         "1"
        ],
        [
         "PETCT_07fec0d985",
         "1"
        ],
        [
         "PETCT_080922db5a",
         "1"
        ],
        [
         "PETCT_08198c4f0c",
         "1"
        ],
        [
         "PETCT_098c4b7b87",
         "1"
        ],
        [
         "PETCT_0af7ffe12a",
         "1"
        ],
        [
         "PETCT_0c13e4df10",
         "1"
        ],
        [
         "PETCT_0dbf2c2731",
         "1"
        ],
        [
         "PETCT_0e9a98ecda",
         "1"
        ],
        [
         "PETCT_141fffa2a9",
         "1"
        ],
        [
         "PETCT_14929994cf",
         "1"
        ],
        [
         "PETCT_1553bd8c8f",
         "1"
        ],
        [
         "PETCT_173b804eda",
         "1"
        ],
        [
         "PETCT_176bdc5388",
         "1"
        ],
        [
         "PETCT_1774857f8e",
         "1"
        ],
        [
         "PETCT_1781ba966c",
         "1"
        ],
        [
         "PETCT_17b46d7275",
         "1"
        ],
        [
         "PETCT_182bdeba22",
         "1"
        ],
        [
         "PETCT_185bac7954",
         "1"
        ],
        [
         "PETCT_1928952a0f",
         "1"
        ],
        [
         "PETCT_193dea6ac7",
         "1"
        ],
        [
         "PETCT_1a3d4e63ee",
         "1"
        ],
        [
         "PETCT_1a8bd52f71",
         "1"
        ],
        [
         "PETCT_1ac497ed9d",
         "1"
        ],
        [
         "PETCT_1bdefef7d5",
         "1"
        ],
        [
         "PETCT_1cb2d26a19",
         "1"
        ],
        [
         "PETCT_1e43e3d692",
         "1"
        ],
        [
         "PETCT_1f2a4f4280",
         "2"
        ],
        [
         "PETCT_1fa22c576e",
         "1"
        ],
        [
         "PETCT_20f4a3aa02",
         "1"
        ],
        [
         "PETCT_2122b88719",
         "1"
        ],
        [
         "PETCT_234f8427c0",
         "2"
        ],
        [
         "PETCT_2428b44e92",
         "1"
        ],
        [
         "PETCT_24cb79a92b",
         "1"
        ],
        [
         "PETCT_265c26907a",
         "1"
        ],
        [
         "PETCT_2716c9bfff",
         "3"
        ],
        [
         "PETCT_2745fb1adb",
         "1"
        ],
        [
         "PETCT_274688d0a8",
         "1"
        ],
        [
         "PETCT_277fc3c67c",
         "1"
        ],
        [
         "PETCT_2791a0b3c2",
         "1"
        ],
        [
         "PETCT_28a0a0a163",
         "1"
        ]
       ],
       "shape": {
        "columns": 1,
        "rows": 411
       }
      },
      "text/html": [
       "<div>\n",
       "<style scoped>\n",
       "    .dataframe tbody tr th:only-of-type {\n",
       "        vertical-align: middle;\n",
       "    }\n",
       "\n",
       "    .dataframe tbody tr th {\n",
       "        vertical-align: top;\n",
       "    }\n",
       "\n",
       "    .dataframe thead th {\n",
       "        text-align: right;\n",
       "    }\n",
       "</style>\n",
       "<table border=\"1\" class=\"dataframe\">\n",
       "  <thead>\n",
       "    <tr style=\"text-align: right;\">\n",
       "      <th></th>\n",
       "      <th>Study UID</th>\n",
       "    </tr>\n",
       "    <tr>\n",
       "      <th>Subject ID</th>\n",
       "      <th></th>\n",
       "    </tr>\n",
       "  </thead>\n",
       "  <tbody>\n",
       "    <tr>\n",
       "      <th>PETCT_0143bab87a</th>\n",
       "      <td>1</td>\n",
       "    </tr>\n",
       "    <tr>\n",
       "      <th>PETCT_0225325b91</th>\n",
       "      <td>1</td>\n",
       "    </tr>\n",
       "    <tr>\n",
       "      <th>PETCT_0410759456</th>\n",
       "      <td>2</td>\n",
       "    </tr>\n",
       "    <tr>\n",
       "      <th>PETCT_048981112f</th>\n",
       "      <td>1</td>\n",
       "    </tr>\n",
       "    <tr>\n",
       "      <th>PETCT_05bed31780</th>\n",
       "      <td>1</td>\n",
       "    </tr>\n",
       "    <tr>\n",
       "      <th>...</th>\n",
       "      <td>...</td>\n",
       "    </tr>\n",
       "    <tr>\n",
       "      <th>PETCT_f8de0cde56</th>\n",
       "      <td>1</td>\n",
       "    </tr>\n",
       "    <tr>\n",
       "      <th>PETCT_fa45f610c4</th>\n",
       "      <td>1</td>\n",
       "    </tr>\n",
       "    <tr>\n",
       "      <th>PETCT_fc0389a486</th>\n",
       "      <td>1</td>\n",
       "    </tr>\n",
       "    <tr>\n",
       "      <th>PETCT_ff1451316e</th>\n",
       "      <td>1</td>\n",
       "    </tr>\n",
       "    <tr>\n",
       "      <th>PETCT_ff39795341</th>\n",
       "      <td>1</td>\n",
       "    </tr>\n",
       "  </tbody>\n",
       "</table>\n",
       "<p>411 rows × 1 columns</p>\n",
       "</div>"
      ],
      "text/plain": [
       "                  Study UID\n",
       "Subject ID                 \n",
       "PETCT_0143bab87a          1\n",
       "PETCT_0225325b91          1\n",
       "PETCT_0410759456          2\n",
       "PETCT_048981112f          1\n",
       "PETCT_05bed31780          1\n",
       "...                     ...\n",
       "PETCT_f8de0cde56          1\n",
       "PETCT_fa45f610c4          1\n",
       "PETCT_fc0389a486          1\n",
       "PETCT_ff1451316e          1\n",
       "PETCT_ff39795341          1\n",
       "\n",
       "[411 rows x 1 columns]"
      ]
     },
     "execution_count": 20,
     "metadata": {},
     "output_type": "execute_result"
    }
   ],
   "source": [
    "diag_patient_data.groupby(\"Subject ID\").agg({\"Study UID\": \"nunique\"})"
   ]
  },
  {
   "cell_type": "code",
   "execution_count": null,
   "metadata": {},
   "outputs": [],
   "source": [
    "clinical_data['diagnosis'].value_counts(dropna=False)"
   ]
  },
  {
   "cell_type": "code",
   "execution_count": null,
   "metadata": {},
   "outputs": [],
   "source": [
    "clinical_data"
   ]
  },
  {
   "cell_type": "code",
   "execution_count": null,
   "metadata": {},
   "outputs": [],
   "source": [
    "pats_and_lesions = lesion_data[['unique_pt_id', 'Lesion #']]\n",
    "\n",
    "grp_pats = pats_and_lesions.groupby('unique_pt_id', as_index=False).size()\n",
    "\n",
    "grp_pats[grp_pats['size'] > 1]"
   ]
  },
  {
   "cell_type": "code",
   "execution_count": null,
   "metadata": {},
   "outputs": [],
   "source": []
  }
 ],
 "metadata": {
  "kernelspec": {
   "display_name": "default",
   "language": "python",
   "name": "python3"
  },
  "language_info": {
   "codemirror_mode": {
    "name": "ipython",
    "version": 3
   },
   "file_extension": ".py",
   "mimetype": "text/x-python",
   "name": "python",
   "nbconvert_exporter": "python",
   "pygments_lexer": "ipython3",
   "version": "3.13.2"
  }
 },
 "nbformat": 4,
 "nbformat_minor": 2
}
