{
 "cells": [
  {
   "cell_type": "code",
   "execution_count": 2,
   "metadata": {},
   "outputs": [],
   "source": [
    "import pandas as pd\n",
    "from pathlib import Path"
   ]
  },
  {
   "cell_type": "code",
   "execution_count": 10,
   "metadata": {},
   "outputs": [
    {
     "name": "stdout",
     "output_type": "stream",
     "text": [
      "             Collection  NumOfMeasurements  NumOfPatients  NumOfSRFiles\n",
      "0        Anti-PD-1_Lung                641             17           245\n",
      "1    Anti-PD-1_MELANOMA               3064             42           384\n",
      "2             TCGA-LUSC                198             24           107\n",
      "3             TCGA-UCEC                 53             12            18\n",
      "4             TCGA-BLCA                 85             40            56\n",
      "5             CPTAC-GBM                133              8           110\n",
      "6           CPTAC-CCRCC                102             20            79\n",
      "7   NSCLC Radiogenomics                185             88           128\n",
      "8           CPTAC-HNSCC                 15              9            10\n",
      "9             TCGA-HNSC                 19             10            11\n",
      "10            CPTAC-PDA                 66             17            38\n",
      "11            TCGA-COAD                155             23            82\n",
      "12           CPTAC-UCEC                 40             14            29\n"
     ]
    }
   ],
   "source": [
    "ccc_results_file = Path(\"../rawdata/crowds-cure-cancer/CrowdsCureCancer2018/CrowdsCureCancer2018-Results.csv\")\n",
    "ccc_sr_dir = Path(\"../rawdata/crowds-cure-cancer/CrowdsCureCancer2018/CrowdsCureCancer2018-DICOM-SR\")\n",
    "ccc_results = pd.read_csv(ccc_results_file)\n",
    "\n",
    "sr_files = sorted(ccc_sr_dir.glob(f\"*.dcm\"))\n",
    "\n",
    "collection_list = ccc_results.Collection.unique()\n",
    "\n",
    "collection_data = []\n",
    "\n",
    "for collection in collection_list:\n",
    "    ccc_collection = ccc_results[ccc_results.Collection == collection]\n",
    "\n",
    "    num_of_measurements = len(ccc_collection)\n",
    "    num_of_patients = ccc_collection.SubjectID.nunique()\n",
    "\n",
    "    collection_sr_files = [sr_file for sr_file in sr_files if collection in sr_file.stem]\n",
    "    collection_sr_file_count = len(collection_sr_files)\n",
    "\n",
    "    collection_data.append([collection, num_of_measurements, num_of_patients, collection_sr_file_count])\n",
    "\n",
    "collection_data = pd.DataFrame(collection_data, columns=[\"Collection\", \"NumOfMeasurements\", \"NumOfPatients\", \"NumOfSRFiles\"])\n",
    "print(collection_data)\n",
    "collection_data.to_csv(\"../procdata/crowds-cure-cancer/CrowdsCureCancer2018-Collection-Data-Summary.csv\", index=False)\n",
    "\n"
   ]
  },
  {
   "cell_type": "code",
   "execution_count": 3,
   "metadata": {},
   "outputs": [
    {
     "name": "stdout",
     "output_type": "stream",
     "text": [
      "Found 18 files for TCGA-UCEC\n"
     ]
    }
   ],
   "source": [
    "ccc_sr_dir = Path(\"../rawdata/crowds-cure-cancer/CrowdsCureCancer2018/CrowdsCureCancer2018-DICOM-SR\")\n",
    "\n",
    "dataset_to_search = \"TCGA-UCEC\"\n",
    "\n",
    "file_count = 0\n",
    "for sr_file in sorted(ccc_sr_dir.glob(f\"*.dcm\")):\n",
    "    if dataset_to_search in sr_file.stem:\n",
    "        file_count += 1\n",
    "\n",
    "print(f\"Found {file_count} files for {dataset_to_search}\")"
   ]
  },
  {
   "cell_type": "code",
   "execution_count": null,
   "metadata": {},
   "outputs": [],
   "source": []
  }
 ],
 "metadata": {
  "kernelspec": {
   "display_name": "default",
   "language": "python",
   "name": "python3"
  },
  "language_info": {
   "codemirror_mode": {
    "name": "ipython",
    "version": 3
   },
   "file_extension": ".py",
   "mimetype": "text/x-python",
   "name": "python",
   "nbconvert_exporter": "python",
   "pygments_lexer": "ipython3",
   "version": "3.13.2"
  }
 },
 "nbformat": 4,
 "nbformat_minor": 2
}
