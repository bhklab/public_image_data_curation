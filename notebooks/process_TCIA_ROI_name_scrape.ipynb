{
 "cells": [
  {
   "cell_type": "code",
   "execution_count": 1,
   "metadata": {},
   "outputs": [],
   "source": [
    "import pandas as pd\n",
    "from pathlib import Path\n",
    "import itertools\n",
    "from ast import literal_eval\n",
    "import re\n",
    "import yaml"
   ]
  },
  {
   "cell_type": "code",
   "execution_count": 3,
   "metadata": {},
   "outputs": [
    {
     "name": "stdout",
     "output_type": "stream",
     "text": [
      "Found 11 tumor ROIs in 4D-Lung\n",
      "No tumor ROIs found in CC-Radiomics-Phantom-3\n",
      "No tumor ROIs found in CC-Radiomics-Phantom\n",
      "No tumor ROIs found in CC-Tumor-Heterogeneity\n",
      "Found 41 tumor ROIs in CPTAC-CCRCC\n",
      "Found 62 tumor ROIs in CPTAC-HNSCC\n",
      "Found 43 tumor ROIs in CPTAC-PDA\n",
      "Found 41 tumor ROIs in CPTAC-UCEC\n",
      "Found 8 tumor ROIs in HEAD-NECK-RADIOMICS-HN1\n",
      "Found 24 tumor ROIs in HNSCC-3DCT-RT\n",
      "Found 99 tumor ROIs in HNSCC\n",
      "Found 132 tumor ROIs in Head-Neck-PET-CT\n",
      "No tumor ROIs found in LCTSC\n",
      "Found 20 tumor ROIs in NSCLC-Radiomics-Interobserver1\n",
      "Found 49 tumor ROIs in NSCLC-Radiomics\n",
      "No tumor ROIs found in Pancreatic-CT-CBCT-SEG\n",
      "No tumor ROIs found in Pediatric-CT-SEG\n",
      "No tumor ROIs found in Prostate-Anatomical-Edge-Cases\n",
      "Found 494 tumor ROIs in RADCURE\n",
      "Found 4 tumor ROIs in RIDER Lung CT\n",
      "Found 4 tumor ROIs in Soft-tissue-Sarcoma\n",
      "Found 1 tumor ROIs in TCGA-HNSC\n",
      "Found 1 tumor ROIs in Vestibular-Schwannoma-SEG\n"
     ]
    }
   ],
   "source": [
    "rawdata_path = Path(\"../rawdata/roi_scrape_results\")\n",
    "\n",
    "# Matching string for tumor ROIs\n",
    "TUMOR_REGEX = re.compile('Tumor*|tumor*|GTV*', re.IGNORECASE)\n",
    "\n",
    "for dataset_file in sorted(rawdata_path.glob('*.csv')):\n",
    "    dataset_name = dataset_file.stem.removesuffix('_RTSTRUCT_summary')\n",
    "\n",
    "    roi_data = pd.read_csv(dataset_file)\n",
    "\n",
    "    # Turn the list of strings into lists\n",
    "    list_cols = [\"OriginalROINames\", \"ExtractableROINames\", \"ReferencedSOPInstanceUIDs\"]\n",
    "    for col in list_cols:\n",
    "        if col in roi_data.columns:\n",
    "            roi_data[col] = roi_data[col].apply(literal_eval)\n",
    "\n",
    "    # Get set of unique ROI names for the dataset\n",
    "    unique_roi_names = set(itertools.chain(*roi_data.ExtractableROINames))\n",
    "\n",
    "    if \"CPTAC\" in dataset_name:\n",
    "        SEED_REGEX = re.compile('- S| see', re.IGNORECASE)\n",
    "        seed_roi_names = {match for match in unique_roi_names if re.search(SEED_REGEX, match)}\n",
    "\n",
    "        tumor_roi_names = unique_roi_names - seed_roi_names\n",
    "    else:\n",
    "        # Get just the tumor ROI names\n",
    "        tumor_roi_names = {match for match in unique_roi_names if re.match(TUMOR_REGEX, match)}\n",
    "\n",
    "    if tumor_roi_names:\n",
    "        print(f\"Found {len(tumor_roi_names)} tumor ROIs in {dataset_name}\")\n",
    "        samples_with_tumours = pd.DataFrame()\n",
    "\n",
    "        for idx, row in roi_data.iterrows():\n",
    "            row_roi_names = set(row.ExtractableROINames)\n",
    "            \n",
    "            # If the sample doesn't have any ROI names that match the tumor regex, drop it\n",
    "            if len(row_roi_names.intersection(tumor_roi_names)) == 0:\n",
    "                roi_data.drop(idx, inplace=True)\n",
    "\n",
    "\n",
    "        # set up output directory\n",
    "        output_dir = Path(f\"../procdata/GTV_RTSTRUCT_samples/{dataset_name}\")\n",
    "        output_dir.mkdir(parents=True, exist_ok=True)\n",
    "\n",
    "        # Save out the updated ROI dataframe with only the rows with tumor ROIs\n",
    "        roi_data.to_csv(output_dir / f\"{dataset_name}_RTSTRUCT_GTV_summary.csv\", index=False)\n",
    "\n",
    "        # Save out a yaml file with the set of all unique tumor ROI names found in the dataset\n",
    "        with open(output_dir / f\"{dataset_name}_tumor_ROI_names.yaml\", 'w') as tumor_output_file:\n",
    "            dataset_tumor_roi_names = {dataset_name: sorted(tumor_roi_names)}\n",
    "            yaml.dump(dataset_tumor_roi_names, tumor_output_file, default_flow_style=False)\n",
    "        \n",
    "    else:\n",
    "        print(f\"No tumor ROIs found in {dataset_name}\")\n",
    "        # set up output directory for dataset with no tumor ROIs\n",
    "        output_dir = Path(f\"../procdata/non-GTV_RTSTRUCT_samples/{dataset_name}\")\n",
    "        output_dir.mkdir(parents=True, exist_ok=True)\n",
    "\n",
    "    \n",
    "    # Save out a yaml file with the set of all unique ROI names found in the dataset\n",
    "    with open(output_dir / f\"{dataset_name}_all_ROI_names.yaml\", 'w') as all_output_file:\n",
    "        dataset_all_roi_names = {dataset_name: sorted(unique_roi_names)}\n",
    "        yaml.dump(dataset_all_roi_names, all_output_file, default_flow_style=False)"
   ]
  },
  {
   "cell_type": "markdown",
   "metadata": {},
   "source": [
    "# Code to print unique ROI names to manually search for tumor ROIs"
   ]
  },
  {
   "cell_type": "code",
   "execution_count": null,
   "metadata": {},
   "outputs": [],
   "source": [
    "dataset = \"CPTAC-CCRCC\"\n",
    "roi_data = pd.read_csv(f\"../rawdata/roi_scrape_results/{dataset}_RTSTRUCT_summary.csv\")\n",
    "\n",
    "# Turn the list of strings into lists\n",
    "list_cols = [\"OriginalROINames\", \"ExtractableROINames\", \"ReferencedSOPInstanceUIDs\"]\n",
    "for col in list_cols:\n",
    "    if col in roi_data.columns:\n",
    "        roi_data[col] = roi_data[col].apply(literal_eval)\n",
    "\n",
    "# Matching string for tumor ROIs\n",
    "tumor_regex = re.compile('Tumor*|tumor*|GTV*')\n",
    "\n",
    "# Get set of unique ROI names for the dataset\n",
    "unique_roi_names = set(itertools.chain(*roi_data.ExtractableROINames))\n",
    "print(unique_roi_names)\n",
    "print(len(unique_roi_names))\n",
    "\n",
    "if \"CPTAC\" in dataset:\n",
    "    SEED_REGEX = re.compile('- S', re.IGNORECASE)\n",
    "    seed_roi_names = {match for match in unique_roi_names if re.search(SEED_REGEX, match)}\n",
    "    print(seed_roi_names)\n",
    "    print(len(seed_roi_names))\n",
    "\n",
    "    tumor_roi_names = unique_roi_names - seed_roi_names\n",
    "    print(tumor_roi_names)"
   ]
  },
  {
   "cell_type": "code",
   "execution_count": null,
   "metadata": {},
   "outputs": [],
   "source": []
  }
 ],
 "metadata": {
  "kernelspec": {
   "display_name": "default",
   "language": "python",
   "name": "python3"
  },
  "language_info": {
   "codemirror_mode": {
    "name": "ipython",
    "version": 3
   },
   "file_extension": ".py",
   "mimetype": "text/x-python",
   "name": "python",
   "nbconvert_exporter": "python",
   "pygments_lexer": "ipython3",
   "version": "3.13.2"
  }
 },
 "nbformat": 4,
 "nbformat_minor": 2
}
